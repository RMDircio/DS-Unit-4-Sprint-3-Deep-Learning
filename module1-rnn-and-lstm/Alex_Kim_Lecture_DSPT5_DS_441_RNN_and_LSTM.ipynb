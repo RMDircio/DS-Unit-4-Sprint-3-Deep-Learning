{
  "nbformat": 4,
  "nbformat_minor": 0,
  "metadata": {
    "accelerator": "GPU",
    "colab": {
      "name": "Alex_Kim_Lecture_DSPT5_DS_441_RNN_and_LSTM.ipynb",
      "provenance": [],
      "collapsed_sections": [],
      "include_colab_link": true
    },
    "kernelspec": {
      "display_name": "U4-S2-NNF-DS10",
      "language": "python",
      "name": "u4-s2-nnf-ds10"
    },
    "language_info": {
      "codemirror_mode": {
        "name": "ipython",
        "version": 3
      },
      "file_extension": ".py",
      "mimetype": "text/x-python",
      "name": "python",
      "nbconvert_exporter": "python",
      "pygments_lexer": "ipython3",
      "version": "3.7.6"
    },
    "widgets": {
      "application/vnd.jupyter.widget-state+json": {
        "c938e53fe8974ee9a31f5b0047721970": {
          "model_module": "@jupyter-widgets/controls",
          "model_name": "HBoxModel",
          "state": {
            "_view_name": "HBoxView",
            "_dom_classes": [],
            "_model_name": "HBoxModel",
            "_view_module": "@jupyter-widgets/controls",
            "_model_module_version": "1.5.0",
            "_view_count": null,
            "_view_module_version": "1.5.0",
            "box_style": "",
            "layout": "IPY_MODEL_035c38976d7d4cc5bed0fdcd7a56e935",
            "_model_module": "@jupyter-widgets/controls",
            "children": [
              "IPY_MODEL_cc2332d6451f438fb12d5dd634ab38ee",
              "IPY_MODEL_874f9a4878c14bfd8faa5945c3b394e1"
            ]
          }
        },
        "035c38976d7d4cc5bed0fdcd7a56e935": {
          "model_module": "@jupyter-widgets/base",
          "model_name": "LayoutModel",
          "state": {
            "_view_name": "LayoutView",
            "grid_template_rows": null,
            "right": null,
            "justify_content": null,
            "_view_module": "@jupyter-widgets/base",
            "overflow": null,
            "_model_module_version": "1.2.0",
            "_view_count": null,
            "flex_flow": null,
            "width": null,
            "min_width": null,
            "border": null,
            "align_items": null,
            "bottom": null,
            "_model_module": "@jupyter-widgets/base",
            "top": null,
            "grid_column": null,
            "overflow_y": null,
            "overflow_x": null,
            "grid_auto_flow": null,
            "grid_area": null,
            "grid_template_columns": null,
            "flex": null,
            "_model_name": "LayoutModel",
            "justify_items": null,
            "grid_row": null,
            "max_height": null,
            "align_content": null,
            "visibility": null,
            "align_self": null,
            "height": null,
            "min_height": null,
            "padding": null,
            "grid_auto_rows": null,
            "grid_gap": null,
            "max_width": null,
            "order": null,
            "_view_module_version": "1.2.0",
            "grid_template_areas": null,
            "object_position": null,
            "object_fit": null,
            "grid_auto_columns": null,
            "margin": null,
            "display": null,
            "left": null
          }
        },
        "cc2332d6451f438fb12d5dd634ab38ee": {
          "model_module": "@jupyter-widgets/controls",
          "model_name": "FloatProgressModel",
          "state": {
            "_view_name": "ProgressView",
            "style": "IPY_MODEL_b35f8ce4739040099480ad0e438fd66f",
            "_dom_classes": [],
            "description": "Downloading: 100%",
            "_model_name": "FloatProgressModel",
            "bar_style": "success",
            "max": 433,
            "_view_module": "@jupyter-widgets/controls",
            "_model_module_version": "1.5.0",
            "value": 433,
            "_view_count": null,
            "_view_module_version": "1.5.0",
            "orientation": "horizontal",
            "min": 0,
            "description_tooltip": null,
            "_model_module": "@jupyter-widgets/controls",
            "layout": "IPY_MODEL_946404a5dc22465faf0227795f9f1025"
          }
        },
        "874f9a4878c14bfd8faa5945c3b394e1": {
          "model_module": "@jupyter-widgets/controls",
          "model_name": "HTMLModel",
          "state": {
            "_view_name": "HTMLView",
            "style": "IPY_MODEL_8cb9cadbe9cd495e8d788fb17e293416",
            "_dom_classes": [],
            "description": "",
            "_model_name": "HTMLModel",
            "placeholder": "​",
            "_view_module": "@jupyter-widgets/controls",
            "_model_module_version": "1.5.0",
            "value": " 433/433 [00:18&lt;00:00, 23.8B/s]",
            "_view_count": null,
            "_view_module_version": "1.5.0",
            "description_tooltip": null,
            "_model_module": "@jupyter-widgets/controls",
            "layout": "IPY_MODEL_df1b061254544c49907b5bb0323ae293"
          }
        },
        "b35f8ce4739040099480ad0e438fd66f": {
          "model_module": "@jupyter-widgets/controls",
          "model_name": "ProgressStyleModel",
          "state": {
            "_view_name": "StyleView",
            "_model_name": "ProgressStyleModel",
            "description_width": "initial",
            "_view_module": "@jupyter-widgets/base",
            "_model_module_version": "1.5.0",
            "_view_count": null,
            "_view_module_version": "1.2.0",
            "bar_color": null,
            "_model_module": "@jupyter-widgets/controls"
          }
        },
        "946404a5dc22465faf0227795f9f1025": {
          "model_module": "@jupyter-widgets/base",
          "model_name": "LayoutModel",
          "state": {
            "_view_name": "LayoutView",
            "grid_template_rows": null,
            "right": null,
            "justify_content": null,
            "_view_module": "@jupyter-widgets/base",
            "overflow": null,
            "_model_module_version": "1.2.0",
            "_view_count": null,
            "flex_flow": null,
            "width": null,
            "min_width": null,
            "border": null,
            "align_items": null,
            "bottom": null,
            "_model_module": "@jupyter-widgets/base",
            "top": null,
            "grid_column": null,
            "overflow_y": null,
            "overflow_x": null,
            "grid_auto_flow": null,
            "grid_area": null,
            "grid_template_columns": null,
            "flex": null,
            "_model_name": "LayoutModel",
            "justify_items": null,
            "grid_row": null,
            "max_height": null,
            "align_content": null,
            "visibility": null,
            "align_self": null,
            "height": null,
            "min_height": null,
            "padding": null,
            "grid_auto_rows": null,
            "grid_gap": null,
            "max_width": null,
            "order": null,
            "_view_module_version": "1.2.0",
            "grid_template_areas": null,
            "object_position": null,
            "object_fit": null,
            "grid_auto_columns": null,
            "margin": null,
            "display": null,
            "left": null
          }
        },
        "8cb9cadbe9cd495e8d788fb17e293416": {
          "model_module": "@jupyter-widgets/controls",
          "model_name": "DescriptionStyleModel",
          "state": {
            "_view_name": "StyleView",
            "_model_name": "DescriptionStyleModel",
            "description_width": "",
            "_view_module": "@jupyter-widgets/base",
            "_model_module_version": "1.5.0",
            "_view_count": null,
            "_view_module_version": "1.2.0",
            "_model_module": "@jupyter-widgets/controls"
          }
        },
        "df1b061254544c49907b5bb0323ae293": {
          "model_module": "@jupyter-widgets/base",
          "model_name": "LayoutModel",
          "state": {
            "_view_name": "LayoutView",
            "grid_template_rows": null,
            "right": null,
            "justify_content": null,
            "_view_module": "@jupyter-widgets/base",
            "overflow": null,
            "_model_module_version": "1.2.0",
            "_view_count": null,
            "flex_flow": null,
            "width": null,
            "min_width": null,
            "border": null,
            "align_items": null,
            "bottom": null,
            "_model_module": "@jupyter-widgets/base",
            "top": null,
            "grid_column": null,
            "overflow_y": null,
            "overflow_x": null,
            "grid_auto_flow": null,
            "grid_area": null,
            "grid_template_columns": null,
            "flex": null,
            "_model_name": "LayoutModel",
            "justify_items": null,
            "grid_row": null,
            "max_height": null,
            "align_content": null,
            "visibility": null,
            "align_self": null,
            "height": null,
            "min_height": null,
            "padding": null,
            "grid_auto_rows": null,
            "grid_gap": null,
            "max_width": null,
            "order": null,
            "_view_module_version": "1.2.0",
            "grid_template_areas": null,
            "object_position": null,
            "object_fit": null,
            "grid_auto_columns": null,
            "margin": null,
            "display": null,
            "left": null
          }
        },
        "4e39f8f001ba43559f3c89470431c7b4": {
          "model_module": "@jupyter-widgets/controls",
          "model_name": "HBoxModel",
          "state": {
            "_view_name": "HBoxView",
            "_dom_classes": [],
            "_model_name": "HBoxModel",
            "_view_module": "@jupyter-widgets/controls",
            "_model_module_version": "1.5.0",
            "_view_count": null,
            "_view_module_version": "1.5.0",
            "box_style": "",
            "layout": "IPY_MODEL_88252737399b4895880d2557a4f59d1f",
            "_model_module": "@jupyter-widgets/controls",
            "children": [
              "IPY_MODEL_d910010e3d444af08719347304c9eaee",
              "IPY_MODEL_e57232c5de6848afbf9a7ed23567f46e"
            ]
          }
        },
        "88252737399b4895880d2557a4f59d1f": {
          "model_module": "@jupyter-widgets/base",
          "model_name": "LayoutModel",
          "state": {
            "_view_name": "LayoutView",
            "grid_template_rows": null,
            "right": null,
            "justify_content": null,
            "_view_module": "@jupyter-widgets/base",
            "overflow": null,
            "_model_module_version": "1.2.0",
            "_view_count": null,
            "flex_flow": null,
            "width": null,
            "min_width": null,
            "border": null,
            "align_items": null,
            "bottom": null,
            "_model_module": "@jupyter-widgets/base",
            "top": null,
            "grid_column": null,
            "overflow_y": null,
            "overflow_x": null,
            "grid_auto_flow": null,
            "grid_area": null,
            "grid_template_columns": null,
            "flex": null,
            "_model_name": "LayoutModel",
            "justify_items": null,
            "grid_row": null,
            "max_height": null,
            "align_content": null,
            "visibility": null,
            "align_self": null,
            "height": null,
            "min_height": null,
            "padding": null,
            "grid_auto_rows": null,
            "grid_gap": null,
            "max_width": null,
            "order": null,
            "_view_module_version": "1.2.0",
            "grid_template_areas": null,
            "object_position": null,
            "object_fit": null,
            "grid_auto_columns": null,
            "margin": null,
            "display": null,
            "left": null
          }
        },
        "d910010e3d444af08719347304c9eaee": {
          "model_module": "@jupyter-widgets/controls",
          "model_name": "FloatProgressModel",
          "state": {
            "_view_name": "ProgressView",
            "style": "IPY_MODEL_5d00f661214c4c46ab5ed44cb3a62cc4",
            "_dom_classes": [],
            "description": "Downloading: 100%",
            "_model_name": "FloatProgressModel",
            "bar_style": "success",
            "max": 526681800,
            "_view_module": "@jupyter-widgets/controls",
            "_model_module_version": "1.5.0",
            "value": 526681800,
            "_view_count": null,
            "_view_module_version": "1.5.0",
            "orientation": "horizontal",
            "min": 0,
            "description_tooltip": null,
            "_model_module": "@jupyter-widgets/controls",
            "layout": "IPY_MODEL_9b891cdb5a6448a0b7efca549ab0f666"
          }
        },
        "e57232c5de6848afbf9a7ed23567f46e": {
          "model_module": "@jupyter-widgets/controls",
          "model_name": "HTMLModel",
          "state": {
            "_view_name": "HTMLView",
            "style": "IPY_MODEL_a2f668f74427479395476b30847e53c3",
            "_dom_classes": [],
            "description": "",
            "_model_name": "HTMLModel",
            "placeholder": "​",
            "_view_module": "@jupyter-widgets/controls",
            "_model_module_version": "1.5.0",
            "value": " 527M/527M [00:17&lt;00:00, 29.5MB/s]",
            "_view_count": null,
            "_view_module_version": "1.5.0",
            "description_tooltip": null,
            "_model_module": "@jupyter-widgets/controls",
            "layout": "IPY_MODEL_bfb44c057a144dd5a7f31e38795ed4cf"
          }
        },
        "5d00f661214c4c46ab5ed44cb3a62cc4": {
          "model_module": "@jupyter-widgets/controls",
          "model_name": "ProgressStyleModel",
          "state": {
            "_view_name": "StyleView",
            "_model_name": "ProgressStyleModel",
            "description_width": "initial",
            "_view_module": "@jupyter-widgets/base",
            "_model_module_version": "1.5.0",
            "_view_count": null,
            "_view_module_version": "1.2.0",
            "bar_color": null,
            "_model_module": "@jupyter-widgets/controls"
          }
        },
        "9b891cdb5a6448a0b7efca549ab0f666": {
          "model_module": "@jupyter-widgets/base",
          "model_name": "LayoutModel",
          "state": {
            "_view_name": "LayoutView",
            "grid_template_rows": null,
            "right": null,
            "justify_content": null,
            "_view_module": "@jupyter-widgets/base",
            "overflow": null,
            "_model_module_version": "1.2.0",
            "_view_count": null,
            "flex_flow": null,
            "width": null,
            "min_width": null,
            "border": null,
            "align_items": null,
            "bottom": null,
            "_model_module": "@jupyter-widgets/base",
            "top": null,
            "grid_column": null,
            "overflow_y": null,
            "overflow_x": null,
            "grid_auto_flow": null,
            "grid_area": null,
            "grid_template_columns": null,
            "flex": null,
            "_model_name": "LayoutModel",
            "justify_items": null,
            "grid_row": null,
            "max_height": null,
            "align_content": null,
            "visibility": null,
            "align_self": null,
            "height": null,
            "min_height": null,
            "padding": null,
            "grid_auto_rows": null,
            "grid_gap": null,
            "max_width": null,
            "order": null,
            "_view_module_version": "1.2.0",
            "grid_template_areas": null,
            "object_position": null,
            "object_fit": null,
            "grid_auto_columns": null,
            "margin": null,
            "display": null,
            "left": null
          }
        },
        "a2f668f74427479395476b30847e53c3": {
          "model_module": "@jupyter-widgets/controls",
          "model_name": "DescriptionStyleModel",
          "state": {
            "_view_name": "StyleView",
            "_model_name": "DescriptionStyleModel",
            "description_width": "",
            "_view_module": "@jupyter-widgets/base",
            "_model_module_version": "1.5.0",
            "_view_count": null,
            "_view_module_version": "1.2.0",
            "_model_module": "@jupyter-widgets/controls"
          }
        },
        "bfb44c057a144dd5a7f31e38795ed4cf": {
          "model_module": "@jupyter-widgets/base",
          "model_name": "LayoutModel",
          "state": {
            "_view_name": "LayoutView",
            "grid_template_rows": null,
            "right": null,
            "justify_content": null,
            "_view_module": "@jupyter-widgets/base",
            "overflow": null,
            "_model_module_version": "1.2.0",
            "_view_count": null,
            "flex_flow": null,
            "width": null,
            "min_width": null,
            "border": null,
            "align_items": null,
            "bottom": null,
            "_model_module": "@jupyter-widgets/base",
            "top": null,
            "grid_column": null,
            "overflow_y": null,
            "overflow_x": null,
            "grid_auto_flow": null,
            "grid_area": null,
            "grid_template_columns": null,
            "flex": null,
            "_model_name": "LayoutModel",
            "justify_items": null,
            "grid_row": null,
            "max_height": null,
            "align_content": null,
            "visibility": null,
            "align_self": null,
            "height": null,
            "min_height": null,
            "padding": null,
            "grid_auto_rows": null,
            "grid_gap": null,
            "max_width": null,
            "order": null,
            "_view_module_version": "1.2.0",
            "grid_template_areas": null,
            "object_position": null,
            "object_fit": null,
            "grid_auto_columns": null,
            "margin": null,
            "display": null,
            "left": null
          }
        }
      }
    }
  },
  "cells": [
    {
      "cell_type": "markdown",
      "metadata": {
        "id": "view-in-github",
        "colab_type": "text"
      },
      "source": [
        "<a href=\"https://colab.research.google.com/github/RMDircio/DS-Unit-4-Sprint-3-Deep-Learning/blob/main/module1-rnn-and-lstm/Alex_Kim_Lecture_DSPT5_DS_441_RNN_and_LSTM.ipynb\" target=\"_parent\"><img src=\"https://colab.research.google.com/assets/colab-badge.svg\" alt=\"Open In Colab\"/></a>"
      ]
    },
    {
      "cell_type": "markdown",
      "metadata": {
        "colab_type": "text",
        "id": "Ldr0HZ193GKb"
      },
      "source": [
        "Lambda School Data Science\n",
        "\n",
        "*Unit 4, Sprint 3, Module 1*\n",
        "\n",
        "---\n"
      ]
    },
    {
      "cell_type": "markdown",
      "metadata": {
        "id": "0wQErF1oA2pV",
        "colab_type": "text"
      },
      "source": [
        "# Recurrent Neural Networks (RNNs) and Long Short Term Memory (LSTM) (Prepare)\n",
        "\n",
        "<img src=\"https://media.giphy.com/media/l2JJu8U8SoHhQEnoQ/giphy.gif\" width=480 height=356>\n",
        "<br></br>\n",
        "<br></br>"
      ]
    },
    {
      "cell_type": "markdown",
      "metadata": {
        "id": "LeGiAg-VA2pW",
        "colab_type": "text"
      },
      "source": [
        "## Learning Objectives\n",
        "- <a href=\"#p1\">Part 1: </a>Describe Neural Networks used for modeling sequences\n",
        "- <a href=\"#p2\">Part 2: </a>Apply a LSTM to a text generation problem using Keras"
      ]
    },
    {
      "cell_type": "markdown",
      "metadata": {
        "colab_type": "text",
        "id": "_IizNKWLomoA"
      },
      "source": [
        "## Overview\n",
        "\n",
        "> \"Yesterday's just a memory - tomorrow is never what it's supposed to be.\" -- Bob Dylan\n",
        "\n",
        "Wish you could save [Time In A Bottle](https://www.youtube.com/watch?v=AnWWj6xOleY)? With statistics you can do the next best thing - understand how data varies over time (or any sequential order), and use the order/time dimension predictively.\n",
        "\n",
        "A sequence is just any enumerated collection - order counts, and repetition is allowed. Python lists are a good elemental example - `[1, 2, 2, -1]` is a valid list, and is different from `[1, 2, -1, 2]`. The data structures we tend to use (e.g. NumPy arrays) are often built on this fundamental structure.\n",
        "\n",
        "A time series is data where you have not just the order but some actual continuous marker for where they lie \"in time\" - this could be a date, a timestamp, [Unix time](https://en.wikipedia.org/wiki/Unix_time), or something else. All time series are also sequences, and for some techniques you may just consider their order and not \"how far apart\" the entries are (if you have particularly consistent data collected at regular intervals it may not matter)."
      ]
    },
    {
      "cell_type": "markdown",
      "metadata": {
        "colab_type": "text",
        "id": "44QZgrPUe3-Y"
      },
      "source": [
        "# Neural Networks for Sequences (Learn)"
      ]
    },
    {
      "cell_type": "markdown",
      "metadata": {
        "colab_type": "text",
        "id": "L1-VONbrA2pX"
      },
      "source": [
        "## Overview\n",
        "\n",
        "There's plenty more to \"traditional\" time series, but the latest and greatest technique for sequence data is recurrent neural networks. A recurrence relation in math is an equation that uses recursion to define a sequence - a famous example is the Fibonacci numbers:\n",
        "\n",
        "$F_n = F_{n-1} + F_{n-2}$\n",
        "\n",
        "For formal math you also need a base case $F_0=1, F_1=1$, and then the rest builds from there. But for neural networks what we're really talking about are loops:\n",
        "\n",
        "![Recurrent neural network](https://upload.wikimedia.org/wikipedia/commons/b/b5/Recurrent_neural_network_unfold.svg)\n",
        "\n",
        "The hidden layers have edges (output) going back to their own input - this loop means that for any time `t` the training is at least partly based on the output from time `t-1`. The entire network is being represented on the left, and you can unfold the network explicitly to see how it behaves at any given `t`.\n",
        "\n",
        "Different units can have this \"loop\", but a particularly successful one is the long short-term memory unit (LSTM):\n",
        "\n",
        "![Long short-term memory unit](https://upload.wikimedia.org/wikipedia/commons/thumb/6/63/Long_Short-Term_Memory.svg/1024px-Long_Short-Term_Memory.svg.png)\n",
        "\n",
        "There's a lot going on here - in a nutshell, the calculus still works out and backpropagation can still be implemented. The advantage (ane namesake) of LSTM is that it can generally put more weight on recent (short-term) events while not completely losing older (long-term) information.\n",
        "\n",
        "After enough iterations, a typical neural network will start calculating prior gradients that are so small they effectively become zero - this is the [vanishing gradient problem](https://en.wikipedia.org/wiki/Vanishing_gradient_problem), and is what RNN with LSTM addresses. Pay special attention to the $c_t$ parameters and how they pass through the unit to get an intuition for how this problem is solved.\n",
        "\n",
        "So why are these cool? One particularly compelling application is actually not time series but language modeling - language is inherently ordered data (letters/words go one after another, and the order *matters*). [The Unreasonable Effectiveness of Recurrent Neural Networks](https://karpathy.github.io/2015/05/21/rnn-effectiveness/) is a famous and worth reading blog post on this topic.\n",
        "\n",
        "Another good article: [Understading LSTM](https://colah.github.io/posts/2015-08-Understanding-LSTMs/)\n",
        "\n",
        "For our purposes, let's use TensorFlow and Keras to train RNNs with natural language. Resources:\n",
        "\n",
        "- https://github.com/keras-team/keras/blob/master/examples/imdb_lstm.py\n",
        "- https://keras.io/layers/recurrent/#lstm\n",
        "- http://adventuresinmachinelearning.com/keras-lstm-tutorial/\n",
        "\n",
        "Note that `tensorflow.contrib` [also has an implementation of RNN/LSTM](https://www.tensorflow.org/tutorials/sequences/recurrent)."
      ]
    },
    {
      "cell_type": "markdown",
      "metadata": {
        "colab_type": "text",
        "id": "eWrQllf8WEd-"
      },
      "source": [
        "## Follow Along\n",
        "\n",
        "Sequences come in many shapes and forms from stock prices to text. We'll focus on text, because modeling text as a sequence is a strength of Neural Networks. Let's start with a simple classification task using a TensorFlow tutorial. "
      ]
    },
    {
      "cell_type": "markdown",
      "metadata": {
        "colab_type": "text",
        "id": "gN-byQheA2pY"
      },
      "source": [
        "### RNN/LSTM Sentiment Classification with Keras"
      ]
    },
    {
      "cell_type": "code",
      "metadata": {
        "colab_type": "code",
        "id": "Ti23G0gRe3kr",
        "colab": {
          "base_uri": "https://localhost:8080/",
          "height": 104
        },
        "outputId": "800644ac-e37e-49d8-d301-2257cb7c5b32"
      },
      "source": [
        "'''\n",
        "#Trains an LSTM model on the IMDB sentiment classification task.\n",
        "The dataset is actually too small for LSTM to be of any advantage\n",
        "compared to simpler, much faster methods such as TF-IDF + LogReg.\n",
        "**Notes**\n",
        "- RNNs are tricky. Choice of batch size is important,\n",
        "choice of loss and optimizer is critical, etc.\n",
        "Some configurations won't converge.\n",
        "- LSTM loss decrease patterns during training can be quite different\n",
        "from what you see with CNNs/MLPs/etc.\n",
        "'''\n",
        "from __future__ import print_function\n",
        "\n",
        "from tensorflow.keras.preprocessing import sequence\n",
        "from tensorflow.keras.models import Sequential\n",
        "from tensorflow.keras.layers import Dense, Embedding\n",
        "from tensorflow.keras.layers import LSTM\n",
        "from tensorflow.keras.datasets import imdb\n",
        "\n",
        "max_features = 20000\n",
        "# cut texts after this number of words (among top max_features most common words)\n",
        "maxlen = 80 # only keeping the last 80 words from review\n",
        "batch_size = 32\n",
        "\n",
        "print('Loading data...')\n",
        "(x_train, y_train), (x_test, y_test) = imdb.load_data(num_words=max_features)\n",
        "print(len(x_train), 'train sequences')\n",
        "print(len(x_test), 'test sequences')"
      ],
      "execution_count": 1,
      "outputs": [
        {
          "output_type": "stream",
          "text": [
            "Loading data...\n",
            "Downloading data from https://storage.googleapis.com/tensorflow/tf-keras-datasets/imdb.npz\n",
            "17465344/17464789 [==============================] - 0s 0us/step\n",
            "25000 train sequences\n",
            "25000 test sequences\n"
          ],
          "name": "stdout"
        }
      ]
    },
    {
      "cell_type": "code",
      "metadata": {
        "id": "wlk_UpvtA2pb",
        "colab_type": "code",
        "colab": {
          "base_uri": "https://localhost:8080/",
          "height": 1000
        },
        "outputId": "c6f69778-0522-48b8-8b51-1eb428495a4a"
      },
      "source": [
        "x_train[0] # data is preprocessed as tokens"
      ],
      "execution_count": 2,
      "outputs": [
        {
          "output_type": "execute_result",
          "data": {
            "text/plain": [
              "[1,\n",
              " 14,\n",
              " 22,\n",
              " 16,\n",
              " 43,\n",
              " 530,\n",
              " 973,\n",
              " 1622,\n",
              " 1385,\n",
              " 65,\n",
              " 458,\n",
              " 4468,\n",
              " 66,\n",
              " 3941,\n",
              " 4,\n",
              " 173,\n",
              " 36,\n",
              " 256,\n",
              " 5,\n",
              " 25,\n",
              " 100,\n",
              " 43,\n",
              " 838,\n",
              " 112,\n",
              " 50,\n",
              " 670,\n",
              " 2,\n",
              " 9,\n",
              " 35,\n",
              " 480,\n",
              " 284,\n",
              " 5,\n",
              " 150,\n",
              " 4,\n",
              " 172,\n",
              " 112,\n",
              " 167,\n",
              " 2,\n",
              " 336,\n",
              " 385,\n",
              " 39,\n",
              " 4,\n",
              " 172,\n",
              " 4536,\n",
              " 1111,\n",
              " 17,\n",
              " 546,\n",
              " 38,\n",
              " 13,\n",
              " 447,\n",
              " 4,\n",
              " 192,\n",
              " 50,\n",
              " 16,\n",
              " 6,\n",
              " 147,\n",
              " 2025,\n",
              " 19,\n",
              " 14,\n",
              " 22,\n",
              " 4,\n",
              " 1920,\n",
              " 4613,\n",
              " 469,\n",
              " 4,\n",
              " 22,\n",
              " 71,\n",
              " 87,\n",
              " 12,\n",
              " 16,\n",
              " 43,\n",
              " 530,\n",
              " 38,\n",
              " 76,\n",
              " 15,\n",
              " 13,\n",
              " 1247,\n",
              " 4,\n",
              " 22,\n",
              " 17,\n",
              " 515,\n",
              " 17,\n",
              " 12,\n",
              " 16,\n",
              " 626,\n",
              " 18,\n",
              " 19193,\n",
              " 5,\n",
              " 62,\n",
              " 386,\n",
              " 12,\n",
              " 8,\n",
              " 316,\n",
              " 8,\n",
              " 106,\n",
              " 5,\n",
              " 4,\n",
              " 2223,\n",
              " 5244,\n",
              " 16,\n",
              " 480,\n",
              " 66,\n",
              " 3785,\n",
              " 33,\n",
              " 4,\n",
              " 130,\n",
              " 12,\n",
              " 16,\n",
              " 38,\n",
              " 619,\n",
              " 5,\n",
              " 25,\n",
              " 124,\n",
              " 51,\n",
              " 36,\n",
              " 135,\n",
              " 48,\n",
              " 25,\n",
              " 1415,\n",
              " 33,\n",
              " 6,\n",
              " 22,\n",
              " 12,\n",
              " 215,\n",
              " 28,\n",
              " 77,\n",
              " 52,\n",
              " 5,\n",
              " 14,\n",
              " 407,\n",
              " 16,\n",
              " 82,\n",
              " 10311,\n",
              " 8,\n",
              " 4,\n",
              " 107,\n",
              " 117,\n",
              " 5952,\n",
              " 15,\n",
              " 256,\n",
              " 4,\n",
              " 2,\n",
              " 7,\n",
              " 3766,\n",
              " 5,\n",
              " 723,\n",
              " 36,\n",
              " 71,\n",
              " 43,\n",
              " 530,\n",
              " 476,\n",
              " 26,\n",
              " 400,\n",
              " 317,\n",
              " 46,\n",
              " 7,\n",
              " 4,\n",
              " 12118,\n",
              " 1029,\n",
              " 13,\n",
              " 104,\n",
              " 88,\n",
              " 4,\n",
              " 381,\n",
              " 15,\n",
              " 297,\n",
              " 98,\n",
              " 32,\n",
              " 2071,\n",
              " 56,\n",
              " 26,\n",
              " 141,\n",
              " 6,\n",
              " 194,\n",
              " 7486,\n",
              " 18,\n",
              " 4,\n",
              " 226,\n",
              " 22,\n",
              " 21,\n",
              " 134,\n",
              " 476,\n",
              " 26,\n",
              " 480,\n",
              " 5,\n",
              " 144,\n",
              " 30,\n",
              " 5535,\n",
              " 18,\n",
              " 51,\n",
              " 36,\n",
              " 28,\n",
              " 224,\n",
              " 92,\n",
              " 25,\n",
              " 104,\n",
              " 4,\n",
              " 226,\n",
              " 65,\n",
              " 16,\n",
              " 38,\n",
              " 1334,\n",
              " 88,\n",
              " 12,\n",
              " 16,\n",
              " 283,\n",
              " 5,\n",
              " 16,\n",
              " 4472,\n",
              " 113,\n",
              " 103,\n",
              " 32,\n",
              " 15,\n",
              " 16,\n",
              " 5345,\n",
              " 19,\n",
              " 178,\n",
              " 32]"
            ]
          },
          "metadata": {
            "tags": []
          },
          "execution_count": 2
        }
      ]
    },
    {
      "cell_type": "code",
      "metadata": {
        "id": "ImNGmK4jVnVi",
        "colab_type": "code",
        "colab": {}
      },
      "source": [
        "# function to get the words from the index of tokens\n",
        "\n",
        "def print_text_from_seq(x):\n",
        "    INDEX_FROM=3   # word index offset\n",
        "    word_to_id = imdb.get_word_index()\n",
        "    word_to_id = {k:(v+INDEX_FROM) for k,v in word_to_id.items()}\n",
        "\n",
        "    word_to_id[\"<PAD>\"] = 0 # padding token  \n",
        "    '''\n",
        "    pad with zeros at the begining if needed \n",
        "    if maxlen > than actual number of words in review \n",
        "    theory is more usefull words are at the end of a review\n",
        "    '''\n",
        "\n",
        "    word_to_id[\"<START>\"] = 1 # start token\n",
        "    word_to_id[\"<UNK>\"] = 2 # unknown token\n",
        "    word_to_id[\"<UNUSED>\"] = 3 # unused token\n",
        "    # can have a <END> token \n",
        "\n",
        "    id_to_word = {value:key for key,value in word_to_id.items()}\n",
        "    print('=================================================')\n",
        "    print(f'Length = {len(x)}')\n",
        "    print('=================================================')\n",
        "    print(' '.join(id_to_word[id] for id in x ))"
      ],
      "execution_count": 3,
      "outputs": []
    },
    {
      "cell_type": "code",
      "metadata": {
        "id": "xOjZBKnLWVCA",
        "colab_type": "code",
        "colab": {
          "base_uri": "https://localhost:8080/",
          "height": 141
        },
        "outputId": "8037ae6b-883a-47c9-efa8-87db64b7e539"
      },
      "source": [
        "print_text_from_seq(x_train[0])"
      ],
      "execution_count": 4,
      "outputs": [
        {
          "output_type": "stream",
          "text": [
            "Downloading data from https://storage.googleapis.com/tensorflow/tf-keras-datasets/imdb_word_index.json\n",
            "1646592/1641221 [==============================] - 0s 0us/step\n",
            "=================================================\n",
            "Length = 218\n",
            "=================================================\n",
            "<START> this film was just brilliant casting location scenery story direction everyone's really suited the part they played and you could just imagine being there robert <UNK> is an amazing actor and now the same being director <UNK> father came from the same scottish island as myself so i loved the fact there was a real connection with this film the witty remarks throughout the film were great it was just brilliant so much that i bought the film as soon as it was released for retail and would recommend it to everyone to watch and the fly fishing was amazing really cried at the end it was so sad and you know what they say if you cry at a film it must have been good and this definitely was also congratulations to the two little boy's that played the <UNK> of norman and paul they were just brilliant children are often left out of the praising list i think because the stars that play them all grown up are such a big profile for the whole film but these children are amazing and should be praised for what they have done don't you think the whole story was so lovely because it was true and was someone's life after all that was shared with us all\n"
          ],
          "name": "stdout"
        }
      ]
    },
    {
      "cell_type": "code",
      "metadata": {
        "id": "Ya5oJpUXWk8v",
        "colab_type": "code",
        "colab": {
          "base_uri": "https://localhost:8080/",
          "height": 558
        },
        "outputId": "cd52e0ad-ed92-4467-c482-20a64be75c9e"
      },
      "source": [
        "# get the first 6 reviews\n",
        "for i in range(0, 6):\n",
        "  print(x_train[i]) # actual tokens in review\n",
        "  print_text_from_seq(x_train[i]) # words via tokens in review"
      ],
      "execution_count": 5,
      "outputs": [
        {
          "output_type": "stream",
          "text": [
            "[1, 14, 22, 16, 43, 530, 973, 1622, 1385, 65, 458, 4468, 66, 3941, 4, 173, 36, 256, 5, 25, 100, 43, 838, 112, 50, 670, 2, 9, 35, 480, 284, 5, 150, 4, 172, 112, 167, 2, 336, 385, 39, 4, 172, 4536, 1111, 17, 546, 38, 13, 447, 4, 192, 50, 16, 6, 147, 2025, 19, 14, 22, 4, 1920, 4613, 469, 4, 22, 71, 87, 12, 16, 43, 530, 38, 76, 15, 13, 1247, 4, 22, 17, 515, 17, 12, 16, 626, 18, 19193, 5, 62, 386, 12, 8, 316, 8, 106, 5, 4, 2223, 5244, 16, 480, 66, 3785, 33, 4, 130, 12, 16, 38, 619, 5, 25, 124, 51, 36, 135, 48, 25, 1415, 33, 6, 22, 12, 215, 28, 77, 52, 5, 14, 407, 16, 82, 10311, 8, 4, 107, 117, 5952, 15, 256, 4, 2, 7, 3766, 5, 723, 36, 71, 43, 530, 476, 26, 400, 317, 46, 7, 4, 12118, 1029, 13, 104, 88, 4, 381, 15, 297, 98, 32, 2071, 56, 26, 141, 6, 194, 7486, 18, 4, 226, 22, 21, 134, 476, 26, 480, 5, 144, 30, 5535, 18, 51, 36, 28, 224, 92, 25, 104, 4, 226, 65, 16, 38, 1334, 88, 12, 16, 283, 5, 16, 4472, 113, 103, 32, 15, 16, 5345, 19, 178, 32]\n",
            "=================================================\n",
            "Length = 218\n",
            "=================================================\n",
            "<START> this film was just brilliant casting location scenery story direction everyone's really suited the part they played and you could just imagine being there robert <UNK> is an amazing actor and now the same being director <UNK> father came from the same scottish island as myself so i loved the fact there was a real connection with this film the witty remarks throughout the film were great it was just brilliant so much that i bought the film as soon as it was released for retail and would recommend it to everyone to watch and the fly fishing was amazing really cried at the end it was so sad and you know what they say if you cry at a film it must have been good and this definitely was also congratulations to the two little boy's that played the <UNK> of norman and paul they were just brilliant children are often left out of the praising list i think because the stars that play them all grown up are such a big profile for the whole film but these children are amazing and should be praised for what they have done don't you think the whole story was so lovely because it was true and was someone's life after all that was shared with us all\n",
            "[1, 194, 1153, 194, 8255, 78, 228, 5, 6, 1463, 4369, 5012, 134, 26, 4, 715, 8, 118, 1634, 14, 394, 20, 13, 119, 954, 189, 102, 5, 207, 110, 3103, 21, 14, 69, 188, 8, 30, 23, 7, 4, 249, 126, 93, 4, 114, 9, 2300, 1523, 5, 647, 4, 116, 9, 35, 8163, 4, 229, 9, 340, 1322, 4, 118, 9, 4, 130, 4901, 19, 4, 1002, 5, 89, 29, 952, 46, 37, 4, 455, 9, 45, 43, 38, 1543, 1905, 398, 4, 1649, 26, 6853, 5, 163, 11, 3215, 10156, 4, 1153, 9, 194, 775, 7, 8255, 11596, 349, 2637, 148, 605, 15358, 8003, 15, 123, 125, 68, 2, 6853, 15, 349, 165, 4362, 98, 5, 4, 228, 9, 43, 2, 1157, 15, 299, 120, 5, 120, 174, 11, 220, 175, 136, 50, 9, 4373, 228, 8255, 5, 2, 656, 245, 2350, 5, 4, 9837, 131, 152, 491, 18, 2, 32, 7464, 1212, 14, 9, 6, 371, 78, 22, 625, 64, 1382, 9, 8, 168, 145, 23, 4, 1690, 15, 16, 4, 1355, 5, 28, 6, 52, 154, 462, 33, 89, 78, 285, 16, 145, 95]\n",
            "=================================================\n",
            "Length = 189\n",
            "=================================================\n",
            "<START> big hair big boobs bad music and a giant safety pin these are the words to best describe this terrible movie i love cheesy horror movies and i've seen hundreds but this had got to be on of the worst ever made the plot is paper thin and ridiculous the acting is an abomination the script is completely laughable the best is the end showdown with the cop and how he worked out who the killer is it's just so damn terribly written the clothes are sickening and funny in equal measures the hair is big lots of boobs bounce men wear those cut tee shirts that show off their <UNK> sickening that men actually wore them and the music is just <UNK> trash that plays over and over again in almost every scene there is trashy music boobs and <UNK> taking away bodies and the gym still doesn't close for <UNK> all joking aside this is a truly bad film whose only charm is to look back on the disaster that was the 80's and have a good old laugh at how bad everything was back then\n",
            "[1, 14, 47, 8, 30, 31, 7, 4, 249, 108, 7, 4, 5974, 54, 61, 369, 13, 71, 149, 14, 22, 112, 4, 2401, 311, 12, 16, 3711, 33, 75, 43, 1829, 296, 4, 86, 320, 35, 534, 19, 263, 4821, 1301, 4, 1873, 33, 89, 78, 12, 66, 16, 4, 360, 7, 4, 58, 316, 334, 11, 4, 1716, 43, 645, 662, 8, 257, 85, 1200, 42, 1228, 2578, 83, 68, 3912, 15, 36, 165, 1539, 278, 36, 69, 2, 780, 8, 106, 14, 6905, 1338, 18, 6, 22, 12, 215, 28, 610, 40, 6, 87, 326, 23, 2300, 21, 23, 22, 12, 272, 40, 57, 31, 11, 4, 22, 47, 6, 2307, 51, 9, 170, 23, 595, 116, 595, 1352, 13, 191, 79, 638, 89, 2, 14, 9, 8, 106, 607, 624, 35, 534, 6, 227, 7, 129, 113]\n",
            "=================================================\n",
            "Length = 141\n",
            "=================================================\n",
            "<START> this has to be one of the worst films of the 1990s when my friends i were watching this film being the target audience it was aimed at we just sat watched the first half an hour with our jaws touching the floor at how bad it really was the rest of the time everyone else in the theatre just started talking to each other leaving or generally crying into their popcorn that they actually paid money they had <UNK> working to watch this feeble excuse for a film it must have looked like a great idea on paper but on film it looks like no one in the film has a clue what is going on crap acting crap costumes i can't get across how <UNK> this is to watch save yourself an hour a bit of your life\n",
            "[1, 4, 18609, 16085, 33, 2804, 4, 2040, 432, 111, 153, 103, 4, 1494, 13, 70, 131, 67, 11, 61, 15305, 744, 35, 3715, 761, 61, 5766, 452, 9214, 4, 985, 7, 2, 59, 166, 4, 105, 216, 1239, 41, 1797, 9, 15, 7, 35, 744, 2413, 31, 8, 4, 687, 23, 4, 2, 7339, 6, 3693, 42, 38, 39, 121, 59, 456, 10, 10, 7, 265, 12, 575, 111, 153, 159, 59, 16, 1447, 21, 25, 586, 482, 39, 4, 96, 59, 716, 12, 4, 172, 65, 9, 579, 11, 6004, 4, 1615, 5, 2, 7, 5168, 17, 13, 7064, 12, 19, 6, 464, 31, 314, 11, 2, 6, 719, 605, 11, 8, 202, 27, 310, 4, 3772, 3501, 8, 2722, 58, 10, 10, 537, 2116, 180, 40, 14, 413, 173, 7, 263, 112, 37, 152, 377, 4, 537, 263, 846, 579, 178, 54, 75, 71, 476, 36, 413, 263, 2504, 182, 5, 17, 75, 2306, 922, 36, 279, 131, 2895, 17, 2867, 42, 17, 35, 921, 18435, 192, 5, 1219, 3890, 19, 2, 217, 4122, 1710, 537, 2, 1236, 5, 736, 10, 10, 61, 403, 9, 2, 40, 61, 4494, 5, 27, 4494, 159, 90, 263, 2311, 4319, 309, 8, 178, 5, 82, 4319, 4, 65, 15, 9225, 145, 143, 5122, 12, 7039, 537, 746, 537, 537, 15, 7979, 4, 18665, 594, 7, 5168, 94, 9096, 3987, 15242, 11, 2, 4, 538, 7, 1795, 246, 2, 9, 10161, 11, 635, 14, 9, 51, 408, 12, 94, 318, 1382, 12, 47, 6, 2683, 936, 5, 6307, 10197, 19, 49, 7, 4, 1885, 13699, 1118, 25, 80, 126, 842, 10, 10, 2, 18223, 4726, 27, 4494, 11, 1550, 3633, 159, 27, 341, 29, 2733, 19, 4185, 173, 7, 90, 16376, 8, 30, 11, 4, 1784, 86, 1117, 8, 3261, 46, 11, 2, 21, 29, 9, 2841, 23, 4, 1010, 2, 793, 6, 13699, 1386, 1830, 10, 10, 246, 50, 9, 6, 2750, 1944, 746, 90, 29, 16376, 8, 124, 4, 882, 4, 882, 496, 27, 2, 2213, 537, 121, 127, 1219, 130, 5, 29, 494, 8, 124, 4, 882, 496, 4, 341, 7, 27, 846, 10, 10, 29, 9, 1906, 8, 97, 6, 236, 11120, 1311, 8, 4, 2, 7, 31, 7, 2, 91, 2, 3987, 70, 4, 882, 30, 579, 42, 9, 12, 32, 11, 537, 10, 10, 11, 14, 65, 44, 537, 75, 11876, 1775, 3353, 12716, 1846, 4, 11286, 7, 154, 5, 4, 518, 53, 13243, 11286, 7, 3211, 882, 11, 399, 38, 75, 257, 3807, 19, 18223, 17, 29, 456, 4, 65, 7, 27, 205, 113, 10, 10, 2, 4, 2, 10359, 9, 242, 4, 91, 1202, 11377, 5, 2070, 307, 22, 7, 5168, 126, 93, 40, 18223, 13, 188, 1076, 3222, 19, 4, 13465, 7, 2348, 537, 23, 53, 537, 21, 82, 40, 18223, 13, 2, 14, 280, 13, 219, 4, 2, 431, 758, 859, 4, 953, 1052, 12283, 7, 5991, 5, 94, 40, 25, 238, 60, 2, 4, 15812, 804, 2, 7, 4, 9941, 132, 8, 67, 6, 22, 15, 9, 283, 8, 5168, 14, 31, 9, 242, 955, 48, 25, 279, 2, 23, 12, 1685, 195, 25, 238, 60, 796, 13713, 4, 671, 7, 2804, 5, 4, 559, 154, 888, 7, 726, 50, 26, 49, 7008, 15, 566, 30, 579, 21, 64, 2574]\n",
            "=================================================\n",
            "Length = 550\n",
            "=================================================\n",
            "<START> the scots excel at storytelling the traditional sort many years after the event i can still see in my mind's eye an elderly lady my friend's mother retelling the battle of <UNK> she makes the characters come alive her passion is that of an eye witness one to the events on the <UNK> heath a mile or so from where she lives br br of course it happened many years before she was born but you wouldn't guess from the way she tells it the same story is told in bars the length and <UNK> of scotland as i discussed it with a friend one night in <UNK> a local cut in to give his version the discussion continued to closing time br br stories passed down like this become part of our being who doesn't remember the stories our parents told us when we were children they become our invisible world and as we grow older they maybe still serve as inspiration or as an emotional reservoir fact and fiction blend with <UNK> role models warning stories <UNK> magic and mystery br br my name is <UNK> like my grandfather and his grandfather before him our protagonist introduces himself to us and also introduces the story that stretches back through generations it produces stories within stories stories that evoke the impenetrable wonder of scotland its rugged mountains shrouded in <UNK> the stuff of legend yet <UNK> is rooted in reality this is what gives it its special charm it has a rough beauty and authenticity tempered with some of the finest gaelic singing you will ever hear br br <UNK> angus visits his grandfather in hospital shortly before his death he burns with frustration part of him yearns to be in the twenty first century to hang out in <UNK> but he is raised on the western <UNK> among a gaelic speaking community br br yet there is a deeper conflict within him he yearns to know the truth the truth behind his <UNK> ancient stories where does fiction end and he wants to know the truth behind the death of his parents br br he is pulled to make a last fateful journey to the <UNK> of one of <UNK> most <UNK> mountains can the truth be told or is it all in stories br br in this story about stories we revisit bloody battles poisoned lovers the folklore of old and the sometimes more treacherous folklore of accepted truth in doing so we each connect with angus as he lives the story of his own life br br <UNK> the <UNK> pinnacle is probably the most honest unpretentious and genuinely beautiful film of scotland ever made like angus i got slightly annoyed with the pretext of hanging stories on more stories but also like angus i <UNK> this once i saw the <UNK> picture ' forget the box office pastiche of braveheart and its like you might even <UNK> the justly famous <UNK> of the wicker man to see a film that is true to scotland this one is probably unique if you maybe <UNK> on it deeply enough you might even re evaluate the power of storytelling and the age old question of whether there are some truths that cannot be told but only experienced\n",
            "[1, 249, 1323, 7, 61, 113, 10, 10, 13, 1637, 14, 20, 56, 33, 2401, 18, 457, 88, 13, 2626, 1400, 45, 3171, 13, 70, 79, 49, 706, 919, 13, 16, 355, 340, 355, 1696, 96, 143, 4, 22, 32, 289, 7, 61, 369, 71, 2359, 5, 13, 16, 131, 2073, 249, 114, 249, 229, 249, 20, 13, 28, 126, 110, 13, 473, 8, 569, 61, 419, 56, 429, 6, 1513, 18, 35, 534, 95, 474, 570, 5, 25, 124, 138, 88, 12, 421, 1543, 52, 725, 6397, 61, 419, 11, 13, 1571, 15, 1543, 20, 11, 4, 2, 5, 296, 12, 3524, 5, 15, 421, 128, 74, 233, 334, 207, 126, 224, 12, 562, 298, 2167, 1272, 7, 2601, 5, 516, 988, 43, 8, 79, 120, 15, 595, 13, 784, 25, 3171, 18, 165, 170, 143, 19, 14, 5, 7224, 6, 226, 251, 7, 61, 113]\n",
            "=================================================\n",
            "Length = 147\n",
            "=================================================\n",
            "<START> worst mistake of my life br br i picked this movie up at target for 5 because i figured hey it's sandler i can get some cheap laughs i was wrong completely wrong mid way through the film all three of my friends were asleep and i was still suffering worst plot worst script worst movie i have ever seen i wanted to hit my head up against a wall for an hour then i'd stop and you know why because it felt damn good upon bashing my head in i stuck that damn movie in the <UNK> and watched it burn and that felt better than anything else i've ever done it took american psycho army of darkness and kill bill just to get over that crap i hate you sandler for actually going through with this and ruining a whole day of my life\n",
            "[1, 778, 128, 74, 12, 630, 163, 15, 4, 1766, 7982, 1051, 2, 32, 85, 156, 45, 40, 148, 139, 121, 664, 665, 10, 10, 1361, 173, 4, 749, 2, 16, 3804, 8, 4, 226, 65, 12, 43, 127, 24, 15344, 10, 10]\n",
            "=================================================\n",
            "Length = 43\n",
            "=================================================\n",
            "<START> begins better than it ends funny that the russian submarine crew <UNK> all other actors it's like those scenes where documentary shots br br spoiler part the message <UNK> was contrary to the whole story it just does not mesh br br\n"
          ],
          "name": "stdout"
        }
      ]
    },
    {
      "cell_type": "code",
      "metadata": {
        "id": "qb7GOOhEWxhw",
        "colab_type": "code",
        "colab": {}
      },
      "source": [
        ""
      ],
      "execution_count": 5,
      "outputs": []
    },
    {
      "cell_type": "code",
      "metadata": {
        "id": "8XT51BWLA2pd",
        "colab_type": "code",
        "colab": {
          "base_uri": "https://localhost:8080/",
          "height": 69
        },
        "outputId": "203c8643-77a4-4632-a9d0-da749bb71b5c"
      },
      "source": [
        "print('Pad Sequences (samples x time)')\n",
        "x_train = sequence.pad_sequences(x_train, maxlen=maxlen)\n",
        "x_test = sequence.pad_sequences(x_test, maxlen=maxlen)\n",
        "print('x_train shape: ', x_train.shape)\n",
        "print('x_test shape: ', x_test.shape)"
      ],
      "execution_count": 6,
      "outputs": [
        {
          "output_type": "stream",
          "text": [
            "Pad Sequences (samples x time)\n",
            "x_train shape:  (25000, 80)\n",
            "x_test shape:  (25000, 80)\n"
          ],
          "name": "stdout"
        }
      ]
    },
    {
      "cell_type": "code",
      "metadata": {
        "id": "dl4yX1s5A2pf",
        "colab_type": "code",
        "colab": {
          "base_uri": "https://localhost:8080/",
          "height": 191
        },
        "outputId": "5d22402b-0311-40cb-a62f-bf9a3e9e8d06"
      },
      "source": [
        "x_train[0]"
      ],
      "execution_count": 7,
      "outputs": [
        {
          "output_type": "execute_result",
          "data": {
            "text/plain": [
              "array([   15,   256,     4,     2,     7,  3766,     5,   723,    36,\n",
              "          71,    43,   530,   476,    26,   400,   317,    46,     7,\n",
              "           4, 12118,  1029,    13,   104,    88,     4,   381,    15,\n",
              "         297,    98,    32,  2071,    56,    26,   141,     6,   194,\n",
              "        7486,    18,     4,   226,    22,    21,   134,   476,    26,\n",
              "         480,     5,   144,    30,  5535,    18,    51,    36,    28,\n",
              "         224,    92,    25,   104,     4,   226,    65,    16,    38,\n",
              "        1334,    88,    12,    16,   283,     5,    16,  4472,   113,\n",
              "         103,    32,    15,    16,  5345,    19,   178,    32],\n",
              "      dtype=int32)"
            ]
          },
          "metadata": {
            "tags": []
          },
          "execution_count": 7
        }
      ]
    },
    {
      "cell_type": "code",
      "metadata": {
        "id": "sfuC3W9PXS3s",
        "colab_type": "code",
        "colab": {
          "base_uri": "https://localhost:8080/",
          "height": 106
        },
        "outputId": "e47900d3-8a2e-40bb-beb0-7251c92cf7da"
      },
      "source": [
        "print_text_from_seq(x_train[0])"
      ],
      "execution_count": 8,
      "outputs": [
        {
          "output_type": "stream",
          "text": [
            "=================================================\n",
            "Length = 80\n",
            "=================================================\n",
            "that played the <UNK> of norman and paul they were just brilliant children are often left out of the praising list i think because the stars that play them all grown up are such a big profile for the whole film but these children are amazing and should be praised for what they have done don't you think the whole story was so lovely because it was true and was someone's life after all that was shared with us all\n"
          ],
          "name": "stdout"
        }
      ]
    },
    {
      "cell_type": "code",
      "metadata": {
        "id": "rgiaLW9UXiww",
        "colab_type": "code",
        "colab": {
          "base_uri": "https://localhost:8080/",
          "height": 34
        },
        "outputId": "a2f93346-c082-4827-e86c-4ec1b54292f7"
      },
      "source": [
        "# the review labels are balanced: 50% are positive(1) and 50% are negavite(0)\n",
        "y_train.sum()/len(y_train)"
      ],
      "execution_count": 9,
      "outputs": [
        {
          "output_type": "execute_result",
          "data": {
            "text/plain": [
              "0.5"
            ]
          },
          "metadata": {
            "tags": []
          },
          "execution_count": 9
        }
      ]
    },
    {
      "cell_type": "code",
      "metadata": {
        "id": "tJNMAb-KX4KE",
        "colab_type": "code",
        "colab": {
          "base_uri": "https://localhost:8080/",
          "height": 399
        },
        "outputId": "06fc5879-8a29-4042-c3a8-83808405b938"
      },
      "source": [
        "from tensorflow.keras.layers import Dropout\n",
        "\n",
        "model_fc = Sequential()\n",
        "# Embedding -->review into vectors of length = 128\n",
        "model_fc.add(Embedding(max_features, 128)) \n",
        "model_fc.add(Dropout(0.1))\n",
        "model_fc.add(Dense(50, activation='relu'))\n",
        "model_fc.add(Dropout(0.1))\n",
        "model_fc.add(Dense(50, activation='relu'))\n",
        "model_fc.add(Dropout(0.1))\n",
        "model_fc.add(Dense(1, activation='sigmoid')) # binary value of 1 or 0 \n",
        "model_fc.compile(loss='binary_crossentropy',\n",
        "              optimizer='adam', \n",
        "              metrics=['accuracy'])\n",
        "model_fc.summary()"
      ],
      "execution_count": 10,
      "outputs": [
        {
          "output_type": "stream",
          "text": [
            "Model: \"sequential\"\n",
            "_________________________________________________________________\n",
            "Layer (type)                 Output Shape              Param #   \n",
            "=================================================================\n",
            "embedding (Embedding)        (None, None, 128)         2560000   \n",
            "_________________________________________________________________\n",
            "dropout (Dropout)            (None, None, 128)         0         \n",
            "_________________________________________________________________\n",
            "dense (Dense)                (None, None, 50)          6450      \n",
            "_________________________________________________________________\n",
            "dropout_1 (Dropout)          (None, None, 50)          0         \n",
            "_________________________________________________________________\n",
            "dense_1 (Dense)              (None, None, 50)          2550      \n",
            "_________________________________________________________________\n",
            "dropout_2 (Dropout)          (None, None, 50)          0         \n",
            "_________________________________________________________________\n",
            "dense_2 (Dense)              (None, None, 1)           51        \n",
            "=================================================================\n",
            "Total params: 2,569,051\n",
            "Trainable params: 2,569,051\n",
            "Non-trainable params: 0\n",
            "_________________________________________________________________\n"
          ],
          "name": "stdout"
        }
      ]
    },
    {
      "cell_type": "code",
      "metadata": {
        "id": "qGC6xCl2X4Z0",
        "colab_type": "code",
        "colab": {
          "base_uri": "https://localhost:8080/",
          "height": 106
        },
        "outputId": "e3e8cd08-f878-46d1-d4e0-0aa2857f5920"
      },
      "source": [
        "output_fc = model_fc.fit(x_train, \n",
        "                         y_train, \n",
        "                         batch_size=batch_size, \n",
        "                         epochs=2, \n",
        "                         validation_data=(x_test, y_test))"
      ],
      "execution_count": 11,
      "outputs": [
        {
          "output_type": "stream",
          "text": [
            "Epoch 1/2\n",
            "782/782 [==============================] - 23s 29ms/step - loss: 0.6813 - accuracy: 0.5500 - val_loss: 0.6789 - val_accuracy: 0.5552\n",
            "Epoch 2/2\n",
            "782/782 [==============================] - 22s 28ms/step - loss: 0.6742 - accuracy: 0.5633 - val_loss: 0.6795 - val_accuracy: 0.5558\n"
          ],
          "name": "stdout"
        }
      ]
    },
    {
      "cell_type": "code",
      "metadata": {
        "id": "vu9Ft32IX4hH",
        "colab_type": "code",
        "colab": {
          "base_uri": "https://localhost:8080/",
          "height": 295
        },
        "outputId": "9e5a1806-ecc4-4741-c357-4416d1239530"
      },
      "source": [
        "import matplotlib.pyplot as plt\n",
        "\n",
        "# Plot training & validation loss values\n",
        "plt.plot(output_fc.history['loss'])\n",
        "plt.plot(output_fc.history['val_loss'])\n",
        "plt.title('Model (fully-connected) loss')\n",
        "plt.ylabel('Loss')\n",
        "plt.xlabel('Epoch')\n",
        "plt.legend(['Train', 'Valid'], loc='upper left')\n",
        "plt.show();"
      ],
      "execution_count": 12,
      "outputs": [
        {
          "output_type": "display_data",
          "data": {
            "image/png": "[encoded data removed]",
            "text/plain": [
              "<Figure size 432x288 with 1 Axes>"
            ]
          },
          "metadata": {
            "tags": [],
            "needs_background": "light"
          }
        }
      ]
    },
    {
      "cell_type": "code",
      "metadata": {
        "id": "1IxeJFnQb6oy",
        "colab_type": "code",
        "colab": {}
      },
      "source": [
        "from tensorflow.keras.layers import SpatialDropout1D"
      ],
      "execution_count": 13,
      "outputs": []
    },
    {
      "cell_type": "code",
      "metadata": {
        "id": "aRFklaV4A2ph",
        "colab_type": "code",
        "colab": {
          "base_uri": "https://localhost:8080/",
          "height": 364
        },
        "outputId": "6a9d25fe-1ccc-4ae9-e611-deb7225d6eb5"
      },
      "source": [
        "# now try with a simple LSTM layered Model\n",
        "model = Sequential()\n",
        "model.add(Embedding(max_features, 128))\n",
        "model.add(SpatialDropout1D(0.3)) # spatial is differenet from normal dropout\n",
        "model.add(LSTM(128, return_sequences=True))\n",
        "model.add(SpatialDropout1D(0.3))\n",
        "model.add(LSTM(128))\n",
        "model.add(Dense(1, activation='sigmoid'))\n",
        "model.compile(loss='binary_crossentropy',\n",
        "              optimizer='adam', \n",
        "              metrics=['accuracy'])\n",
        "model.summary()"
      ],
      "execution_count": 14,
      "outputs": [
        {
          "output_type": "stream",
          "text": [
            "Model: \"sequential_1\"\n",
            "_________________________________________________________________\n",
            "Layer (type)                 Output Shape              Param #   \n",
            "=================================================================\n",
            "embedding_1 (Embedding)      (None, None, 128)         2560000   \n",
            "_________________________________________________________________\n",
            "spatial_dropout1d (SpatialDr (None, None, 128)         0         \n",
            "_________________________________________________________________\n",
            "lstm (LSTM)                  (None, None, 128)         131584    \n",
            "_________________________________________________________________\n",
            "spatial_dropout1d_1 (Spatial (None, None, 128)         0         \n",
            "_________________________________________________________________\n",
            "lstm_1 (LSTM)                (None, 128)               131584    \n",
            "_________________________________________________________________\n",
            "dense_3 (Dense)              (None, 1)                 129       \n",
            "=================================================================\n",
            "Total params: 2,823,297\n",
            "Trainable params: 2,823,297\n",
            "Non-trainable params: 0\n",
            "_________________________________________________________________\n"
          ],
          "name": "stdout"
        }
      ]
    },
    {
      "cell_type": "code",
      "metadata": {
        "id": "P1cldZdwbJao",
        "colab_type": "code",
        "colab": {
          "base_uri": "https://localhost:8080/",
          "height": 211
        },
        "outputId": "f4f1bd46-a6d4-4833-d06d-6651502eec82"
      },
      "source": [
        "output_lstm = model.fit(x_train, \n",
        "                         y_train, \n",
        "                         batch_size=batch_size, \n",
        "                         epochs=5, \n",
        "                         validation_data=(x_test, y_test))"
      ],
      "execution_count": 15,
      "outputs": [
        {
          "output_type": "stream",
          "text": [
            "Epoch 1/5\n",
            "782/782 [==============================] - 35s 44ms/step - loss: 0.4345 - accuracy: 0.7923 - val_loss: 0.3903 - val_accuracy: 0.8318\n",
            "Epoch 2/5\n",
            "782/782 [==============================] - 34s 43ms/step - loss: 0.2661 - accuracy: 0.8942 - val_loss: 0.3946 - val_accuracy: 0.8258\n",
            "Epoch 3/5\n",
            "782/782 [==============================] - 34s 43ms/step - loss: 0.1818 - accuracy: 0.9314 - val_loss: 0.4386 - val_accuracy: 0.8327\n",
            "Epoch 4/5\n",
            "782/782 [==============================] - 33s 43ms/step - loss: 0.1283 - accuracy: 0.9530 - val_loss: 0.4805 - val_accuracy: 0.8199\n",
            "Epoch 5/5\n",
            "782/782 [==============================] - 33s 42ms/step - loss: 0.0880 - accuracy: 0.9701 - val_loss: 0.6035 - val_accuracy: 0.8254\n"
          ],
          "name": "stdout"
        }
      ]
    },
    {
      "cell_type": "code",
      "metadata": {
        "id": "l0TbIjLIA2pl",
        "colab_type": "code",
        "colab": {
          "base_uri": "https://localhost:8080/",
          "height": 295
        },
        "outputId": "60a82981-9d70-4969-ca4f-b59db095b913"
      },
      "source": [
        "import matplotlib.pyplot as plt\n",
        "\n",
        "# Plot training & validation loss values\n",
        "plt.plot(output_lstm.history['loss'])\n",
        "plt.plot(output_lstm.history['val_loss'])\n",
        "plt.title('Model loss')\n",
        "plt.ylabel('Loss')\n",
        "plt.xlabel('Epoch')\n",
        "plt.legend(['Train', 'Valid'], loc='upper left')\n",
        "plt.show();"
      ],
      "execution_count": 16,
      "outputs": [
        {
          "output_type": "display_data",
          "data": {
            "image/png": "[encoded data removed]",
            "text/plain": [
              "<Figure size 432x288 with 1 Axes>"
            ]
          },
          "metadata": {
            "tags": [],
            "needs_background": "light"
          }
        }
      ]
    },
    {
      "cell_type": "code",
      "metadata": {
        "id": "XiBglOeGdXWr",
        "colab_type": "code",
        "colab": {
          "base_uri": "https://localhost:8080/",
          "height": 295
        },
        "outputId": "8f587b57-ef6d-41a5-904d-a3feab8483e4"
      },
      "source": [
        "# graph accuracy\n",
        "plt.plot(output_lstm.history['accuracy'])\n",
        "plt.plot(output_lstm.history['val_accuracy'])\n",
        "plt.title('Model accuracy')\n",
        "plt.ylabel('Acc')\n",
        "plt.xlabel('Epoch')\n",
        "plt.legend(['Train', 'Valid'], loc='upper left')\n",
        "plt.show();"
      ],
      "execution_count": 17,
      "outputs": [
        {
          "output_type": "display_data",
          "data": {
            "image/png": "[encoded data removed]",
            "text/plain": [
              "<Figure size 432x288 with 1 Axes>"
            ]
          },
          "metadata": {
            "tags": [],
            "needs_background": "light"
          }
        }
      ]
    },
    {
      "cell_type": "code",
      "metadata": {
        "id": "mcx_bE8hd2G9",
        "colab_type": "code",
        "colab": {}
      },
      "source": [
        "from tensorflow import keras \n",
        "\n",
        "# get embeddings from certain layer\n",
        "\n",
        "layer_name = 'embedding_1'\n",
        "test_seq = x_train[0]\n",
        "intermediate_layer_model = keras.Model(inputs=model.input,\n",
        "                                       outputs=model.get_layer(layer_name).output)\n",
        "intermediate_output = intermediate_layer_model(test_seq)"
      ],
      "execution_count": 19,
      "outputs": []
    },
    {
      "cell_type": "code",
      "metadata": {
        "id": "87P0THxFd2EA",
        "colab_type": "code",
        "colab": {
          "base_uri": "https://localhost:8080/",
          "height": 607
        },
        "outputId": "d253dd1f-6e3c-45e9-edfc-6fe6befc3c32"
      },
      "source": [
        "intermediate_output[0]"
      ],
      "execution_count": 20,
      "outputs": [
        {
          "output_type": "execute_result",
          "data": {
            "text/plain": [
              "<tf.Tensor: shape=(128,), dtype=float32, numpy=\n",
              "array([ 1.43989930e-02, -7.07009435e-02, -4.76660989e-02, -4.89772409e-02,\n",
              "        2.15356089e-02, -6.04589432e-02, -5.88695752e-03,  5.60684837e-02,\n",
              "        6.16225228e-02, -5.52199855e-02, -4.11602147e-02, -1.96850486e-02,\n",
              "       -2.38216259e-02, -7.86412433e-02, -9.41010658e-03,  2.07676692e-03,\n",
              "       -3.62930596e-02,  3.25226896e-02,  5.25689870e-02, -2.60771774e-02,\n",
              "       -4.51503880e-02,  5.26721030e-03,  4.95320447e-02,  6.67520314e-02,\n",
              "        3.76817435e-02,  3.31651489e-03, -3.47410738e-02,  4.56265211e-02,\n",
              "       -3.55649590e-02,  2.73887645e-02,  1.19395461e-02,  4.14095446e-02,\n",
              "        6.35434836e-02, -5.60705476e-02,  2.88682058e-02, -2.88627632e-02,\n",
              "       -9.09908209e-03, -3.65125537e-02,  7.70097319e-03, -2.76048575e-02,\n",
              "       -1.22354897e-02,  4.13664393e-02, -6.61243796e-02,  6.19617896e-03,\n",
              "        1.17848981e-02,  5.46965608e-03, -2.83032865e-03, -1.15314415e-02,\n",
              "       -1.03152515e-02,  1.72164664e-02, -5.32357618e-02, -4.14146893e-02,\n",
              "       -1.70007236e-02, -3.29094357e-03,  4.32621576e-02, -4.03503366e-02,\n",
              "       -1.67443249e-02,  6.27217535e-03,  2.32339241e-02,  3.68451066e-02,\n",
              "        4.22915816e-02,  2.83627259e-03,  4.01891917e-02,  6.13869578e-02,\n",
              "       -1.94335598e-02, -5.56267872e-02, -3.25511284e-02, -4.47353460e-02,\n",
              "       -1.33912014e-02,  2.11805534e-02, -7.20180646e-02,  1.54007748e-02,\n",
              "        1.26186265e-02, -5.37817702e-02, -4.68330756e-02, -3.50703113e-02,\n",
              "       -1.42045636e-02, -1.54803386e-02,  2.06069779e-02, -4.63901646e-02,\n",
              "        4.51337323e-02,  6.45670528e-03, -5.11167794e-02, -6.03610501e-02,\n",
              "       -1.18950643e-01, -5.02539612e-03, -7.32795706e-06, -2.70834640e-02,\n",
              "       -3.59829254e-02,  3.41445506e-02,  2.54748459e-03, -1.65438280e-02,\n",
              "        2.40745917e-02,  2.10877173e-02,  6.56209141e-02,  9.13893897e-03,\n",
              "       -6.06155209e-02, -4.44747396e-02,  1.13653019e-02, -3.77769507e-02,\n",
              "        3.80204767e-02,  5.46181761e-03,  2.71411380e-03,  2.49107610e-02,\n",
              "        9.81455818e-02,  6.90860674e-03,  6.75377622e-02, -2.50659250e-02,\n",
              "       -3.56627814e-02,  1.03115840e-02,  2.60857623e-02, -2.39288807e-02,\n",
              "        9.03933272e-02, -1.88762005e-02,  2.99363420e-03, -3.54517661e-02,\n",
              "        3.66465114e-02, -1.03126299e-02,  1.42843788e-02,  3.06519493e-02,\n",
              "       -2.08045021e-02,  5.44403419e-02, -8.86154398e-02,  6.43142685e-03,\n",
              "        2.63484046e-02,  9.97583382e-03, -4.31239493e-02,  5.94790615e-02],\n",
              "      dtype=float32)>"
            ]
          },
          "metadata": {
            "tags": []
          },
          "execution_count": 20
        }
      ]
    },
    {
      "cell_type": "code",
      "metadata": {
        "id": "BtnRUi-qg5FD",
        "colab_type": "code",
        "colab": {
          "base_uri": "https://localhost:8080/",
          "height": 607
        },
        "outputId": "d0ca7930-e40a-497c-c0d5-ceed06a5bf29"
      },
      "source": [
        "intermediate_output[3] # dense vectors"
      ],
      "execution_count": 21,
      "outputs": [
        {
          "output_type": "execute_result",
          "data": {
            "text/plain": [
              "<tf.Tensor: shape=(128,), dtype=float32, numpy=\n",
              "array([ 3.9984360e-02,  1.8496007e-03,  5.7945814e-02, -2.4160102e-02,\n",
              "        6.4330769e-04, -4.8751654e-03, -2.7617112e-02,  1.1099360e-02,\n",
              "        4.3292072e-02,  3.2176671e-03, -2.7525822e-02,  1.3003664e-02,\n",
              "       -1.8698074e-02, -3.7033467e-03, -3.7210561e-02, -1.8350761e-02,\n",
              "        2.0096753e-02, -2.5938647e-02, -9.1100410e-03,  7.8499690e-03,\n",
              "       -2.3324318e-02, -3.2118883e-02, -3.4087371e-02, -1.4461271e-02,\n",
              "       -4.8810830e-03,  3.2880608e-02, -2.2002596e-02,  3.9770234e-02,\n",
              "       -3.6445525e-02, -3.0378822e-02, -2.7551551e-03, -2.8992830e-02,\n",
              "        2.1620253e-02, -3.3207823e-02,  2.3246052e-02, -3.1573780e-02,\n",
              "        3.5210729e-02, -5.4637078e-02, -3.0886611e-02,  1.6664822e-03,\n",
              "        1.7692316e-02,  2.9022237e-02,  1.3639287e-02, -3.3825380e-03,\n",
              "       -4.9009267e-02, -7.0211911e-03,  1.1966981e-02,  1.6665228e-02,\n",
              "       -1.6624951e-03, -3.4375917e-02,  2.2907814e-02, -4.3681171e-02,\n",
              "        2.6870880e-02, -5.3442526e-04,  1.5023557e-02, -5.3663578e-02,\n",
              "       -6.3669652e-02, -5.0611880e-02,  3.1992454e-02,  1.1314750e-02,\n",
              "        3.2697715e-02, -1.0431744e-02,  2.4192244e-02,  7.8048767e-03,\n",
              "        1.6502406e-02, -9.2985593e-03, -6.0801250e-03, -2.1242421e-02,\n",
              "       -2.8770534e-02,  1.4087572e-02, -3.8234200e-02, -1.2601135e-02,\n",
              "       -1.5478938e-02, -1.3697356e-02, -3.2118008e-02, -5.0271075e-02,\n",
              "        3.0672207e-04, -1.1138684e-02,  5.1944473e-05, -2.3983121e-02,\n",
              "       -1.5519759e-02, -8.9535012e-04, -2.8482506e-03,  7.1405163e-03,\n",
              "       -7.0338473e-02, -5.5044126e-03, -2.1774953e-02, -2.8412743e-02,\n",
              "       -3.1916361e-02,  5.7800524e-03, -5.5295795e-02,  2.0998532e-02,\n",
              "        1.1014621e-02, -7.4130064e-03,  2.8267397e-02,  8.8502197e-03,\n",
              "       -2.1385932e-02,  1.5060145e-02, -1.4145042e-02, -3.5880551e-02,\n",
              "       -9.7266730e-04,  1.2506433e-02,  5.7718672e-02, -4.0479992e-02,\n",
              "       -4.4328924e-02,  1.6808970e-02, -2.1101754e-02, -6.0208929e-03,\n",
              "        1.5965020e-02,  1.9114355e-02,  3.6751933e-02, -4.3541241e-02,\n",
              "        2.7884616e-02, -2.1575717e-02,  4.4859733e-02,  1.6359188e-02,\n",
              "        2.8961286e-02, -9.5108058e-03,  4.4522919e-03,  2.9431982e-02,\n",
              "        3.5489324e-02,  8.9020738e-03, -5.0875165e-02, -6.3343219e-02,\n",
              "       -3.8591381e-02, -2.4195990e-02, -3.0225838e-02,  2.3471069e-02],\n",
              "      dtype=float32)>"
            ]
          },
          "metadata": {
            "tags": []
          },
          "execution_count": 21
        }
      ]
    },
    {
      "cell_type": "code",
      "metadata": {
        "id": "Vk-lutsed2A_",
        "colab_type": "code",
        "colab": {
          "base_uri": "https://localhost:8080/",
          "height": 106
        },
        "outputId": "ef6d3c35-2c60-4be2-a732-4ac6e30d76c5"
      },
      "source": [
        "print_text_from_seq(x_train[0])"
      ],
      "execution_count": 22,
      "outputs": [
        {
          "output_type": "stream",
          "text": [
            "=================================================\n",
            "Length = 80\n",
            "=================================================\n",
            "that played the <UNK> of norman and paul they were just brilliant children are often left out of the praising list i think because the stars that play them all grown up are such a big profile for the whole film but these children are amazing and should be praised for what they have done don't you think the whole story was so lovely because it was true and was someone's life after all that was shared with us all\n"
          ],
          "name": "stdout"
        }
      ]
    },
    {
      "cell_type": "code",
      "metadata": {
        "id": "iD7eMbBfjHKl",
        "colab_type": "code",
        "colab": {
          "base_uri": "https://localhost:8080/",
          "height": 627
        },
        "outputId": "5862f4bf-e4db-44b4-f0f2-6027725cd4f8"
      },
      "source": [
        "!pip install transformers "
      ],
      "execution_count": 23,
      "outputs": [
        {
          "output_type": "stream",
          "text": [
            "Collecting transformers\n",
            "\u001b[?25l  Downloading https://files.pythonhosted.org/packages/27/3c/91ed8f5c4e7ef3227b4119200fc0ed4b4fd965b1f0172021c25701087825/transformers-3.0.2-py3-none-any.whl (769kB)\n",
            "\r\u001b[K     |▍                               | 10kB 27.4MB/s eta 0:00:01\r\u001b[K     |▉                               | 20kB 2.8MB/s eta 0:00:01\r\u001b[K     |█▎                              | 30kB 3.8MB/s eta 0:00:01\r\u001b[K     |█▊                              | 40kB 4.1MB/s eta 0:00:01\r\u001b[K     |██▏                             | 51kB 3.3MB/s eta 0:00:01\r\u001b[K     |██▋                             | 61kB 3.7MB/s eta 0:00:01\r\u001b[K     |███                             | 71kB 4.0MB/s eta 0:00:01\r\u001b[K     |███▍                            | 81kB 4.3MB/s eta 0:00:01\r\u001b[K     |███▉                            | 92kB 4.6MB/s eta 0:00:01\r\u001b[K     |████▎                           | 102kB 4.4MB/s eta 0:00:01\r\u001b[K     |████▊                           | 112kB 4.4MB/s eta 0:00:01\r\u001b[K     |█████▏                          | 122kB 4.4MB/s eta 0:00:01\r\u001b[K     |█████▌                          | 133kB 4.4MB/s eta 0:00:01\r\u001b[K     |██████                          | 143kB 4.4MB/s eta 0:00:01\r\u001b[K     |██████▍                         | 153kB 4.4MB/s eta 0:00:01\r\u001b[K     |██████▉                         | 163kB 4.4MB/s eta 0:00:01\r\u001b[K     |███████▎                        | 174kB 4.4MB/s eta 0:00:01\r\u001b[K     |███████▊                        | 184kB 4.4MB/s eta 0:00:01\r\u001b[K     |████████                        | 194kB 4.4MB/s eta 0:00:01\r\u001b[K     |████████▌                       | 204kB 4.4MB/s eta 0:00:01\r\u001b[K     |█████████                       | 215kB 4.4MB/s eta 0:00:01\r\u001b[K     |█████████▍                      | 225kB 4.4MB/s eta 0:00:01\r\u001b[K     |█████████▉                      | 235kB 4.4MB/s eta 0:00:01\r\u001b[K     |██████████▎                     | 245kB 4.4MB/s eta 0:00:01\r\u001b[K     |██████████▋                     | 256kB 4.4MB/s eta 0:00:01\r\u001b[K     |███████████                     | 266kB 4.4MB/s eta 0:00:01\r\u001b[K     |███████████▌                    | 276kB 4.4MB/s eta 0:00:01\r\u001b[K     |████████████                    | 286kB 4.4MB/s eta 0:00:01\r\u001b[K     |████████████▍                   | 296kB 4.4MB/s eta 0:00:01\r\u001b[K     |████████████▉                   | 307kB 4.4MB/s eta 0:00:01\r\u001b[K     |█████████████▏                  | 317kB 4.4MB/s eta 0:00:01\r\u001b[K     |█████████████▋                  | 327kB 4.4MB/s eta 0:00:01\r\u001b[K     |██████████████                  | 337kB 4.4MB/s eta 0:00:01\r\u001b[K     |██████████████▌                 | 348kB 4.4MB/s eta 0:00:01\r\u001b[K     |███████████████                 | 358kB 4.4MB/s eta 0:00:01\r\u001b[K     |███████████████▍                | 368kB 4.4MB/s eta 0:00:01\r\u001b[K     |███████████████▊                | 378kB 4.4MB/s eta 0:00:01\r\u001b[K     |████████████████▏               | 389kB 4.4MB/s eta 0:00:01\r\u001b[K     |████████████████▋               | 399kB 4.4MB/s eta 0:00:01\r\u001b[K     |█████████████████               | 409kB 4.4MB/s eta 0:00:01\r\u001b[K     |█████████████████▌              | 419kB 4.4MB/s eta 0:00:01\r\u001b[K     |██████████████████              | 430kB 4.4MB/s eta 0:00:01\r\u001b[K     |██████████████████▎             | 440kB 4.4MB/s eta 0:00:01\r\u001b[K     |██████████████████▊             | 450kB 4.4MB/s eta 0:00:01\r\u001b[K     |███████████████████▏            | 460kB 4.4MB/s eta 0:00:01\r\u001b[K     |███████████████████▋            | 471kB 4.4MB/s eta 0:00:01\r\u001b[K     |████████████████████            | 481kB 4.4MB/s eta 0:00:01\r\u001b[K     |████████████████████▌           | 491kB 4.4MB/s eta 0:00:01\r\u001b[K     |████████████████████▉           | 501kB 4.4MB/s eta 0:00:01\r\u001b[K     |█████████████████████▎          | 512kB 4.4MB/s eta 0:00:01\r\u001b[K     |█████████████████████▊          | 522kB 4.4MB/s eta 0:00:01\r\u001b[K     |██████████████████████▏         | 532kB 4.4MB/s eta 0:00:01\r\u001b[K     |██████████████████████▋         | 542kB 4.4MB/s eta 0:00:01\r\u001b[K     |███████████████████████         | 552kB 4.4MB/s eta 0:00:01\r\u001b[K     |███████████████████████▍        | 563kB 4.4MB/s eta 0:00:01\r\u001b[K     |███████████████████████▉        | 573kB 4.4MB/s eta 0:00:01\r\u001b[K     |████████████████████████▎       | 583kB 4.4MB/s eta 0:00:01\r\u001b[K     |████████████████████████▊       | 593kB 4.4MB/s eta 0:00:01\r\u001b[K     |█████████████████████████▏      | 604kB 4.4MB/s eta 0:00:01\r\u001b[K     |█████████████████████████▋      | 614kB 4.4MB/s eta 0:00:01\r\u001b[K     |██████████████████████████      | 624kB 4.4MB/s eta 0:00:01\r\u001b[K     |██████████████████████████▍     | 634kB 4.4MB/s eta 0:00:01\r\u001b[K     |██████████████████████████▉     | 645kB 4.4MB/s eta 0:00:01\r\u001b[K     |███████████████████████████▎    | 655kB 4.4MB/s eta 0:00:01\r\u001b[K     |███████████████████████████▊    | 665kB 4.4MB/s eta 0:00:01\r\u001b[K     |████████████████████████████▏   | 675kB 4.4MB/s eta 0:00:01\r\u001b[K     |████████████████████████████▌   | 686kB 4.4MB/s eta 0:00:01\r\u001b[K     |█████████████████████████████   | 696kB 4.4MB/s eta 0:00:01\r\u001b[K     |█████████████████████████████▍  | 706kB 4.4MB/s eta 0:00:01\r\u001b[K     |█████████████████████████████▉  | 716kB 4.4MB/s eta 0:00:01\r\u001b[K     |██████████████████████████████▎ | 727kB 4.4MB/s eta 0:00:01\r\u001b[K     |██████████████████████████████▊ | 737kB 4.4MB/s eta 0:00:01\r\u001b[K     |███████████████████████████████ | 747kB 4.4MB/s eta 0:00:01\r\u001b[K     |███████████████████████████████▌| 757kB 4.4MB/s eta 0:00:01\r\u001b[K     |████████████████████████████████| 768kB 4.4MB/s eta 0:00:01\r\u001b[K     |████████████████████████████████| 778kB 4.4MB/s \n",
            "\u001b[?25hRequirement already satisfied: dataclasses; python_version < \"3.7\" in /usr/local/lib/python3.6/dist-packages (from transformers) (0.7)\n",
            "Requirement already satisfied: regex!=2019.12.17 in /usr/local/lib/python3.6/dist-packages (from transformers) (2019.12.20)\n",
            "Requirement already satisfied: numpy in /usr/local/lib/python3.6/dist-packages (from transformers) (1.18.5)\n",
            "Collecting tokenizers==0.8.1.rc1\n",
            "\u001b[?25l  Downloading https://files.pythonhosted.org/packages/40/d0/30d5f8d221a0ed981a186c8eb986ce1c94e3a6e87f994eae9f4aa5250217/tokenizers-0.8.1rc1-cp36-cp36m-manylinux1_x86_64.whl (3.0MB)\n",
            "\u001b[K     |████████████████████████████████| 3.0MB 19.1MB/s \n",
            "\u001b[?25hCollecting sentencepiece!=0.1.92\n",
            "\u001b[?25l  Downloading https://files.pythonhosted.org/packages/d4/a4/d0a884c4300004a78cca907a6ff9a5e9fe4f090f5d95ab341c53d28cbc58/sentencepiece-0.1.91-cp36-cp36m-manylinux1_x86_64.whl (1.1MB)\n",
            "\u001b[K     |████████████████████████████████| 1.1MB 51.0MB/s \n",
            "\u001b[?25hRequirement already satisfied: requests in /usr/local/lib/python3.6/dist-packages (from transformers) (2.23.0)\n",
            "Requirement already satisfied: tqdm>=4.27 in /usr/local/lib/python3.6/dist-packages (from transformers) (4.41.1)\n",
            "Collecting sacremoses\n",
            "\u001b[?25l  Downloading https://files.pythonhosted.org/packages/7d/34/09d19aff26edcc8eb2a01bed8e98f13a1537005d31e95233fd48216eed10/sacremoses-0.0.43.tar.gz (883kB)\n",
            "\u001b[K     |████████████████████████████████| 890kB 55.7MB/s \n",
            "\u001b[?25hRequirement already satisfied: filelock in /usr/local/lib/python3.6/dist-packages (from transformers) (3.0.12)\n",
            "Requirement already satisfied: packaging in /usr/local/lib/python3.6/dist-packages (from transformers) (20.4)\n",
            "Requirement already satisfied: urllib3!=1.25.0,!=1.25.1,<1.26,>=1.21.1 in /usr/local/lib/python3.6/dist-packages (from requests->transformers) (1.24.3)\n",
            "Requirement already satisfied: certifi>=2017.4.17 in /usr/local/lib/python3.6/dist-packages (from requests->transformers) (2020.6.20)\n",
            "Requirement already satisfied: chardet<4,>=3.0.2 in /usr/local/lib/python3.6/dist-packages (from requests->transformers) (3.0.4)\n",
            "Requirement already satisfied: idna<3,>=2.5 in /usr/local/lib/python3.6/dist-packages (from requests->transformers) (2.10)\n",
            "Requirement already satisfied: six in /usr/local/lib/python3.6/dist-packages (from sacremoses->transformers) (1.15.0)\n",
            "Requirement already satisfied: click in /usr/local/lib/python3.6/dist-packages (from sacremoses->transformers) (7.1.2)\n",
            "Requirement already satisfied: joblib in /usr/local/lib/python3.6/dist-packages (from sacremoses->transformers) (0.16.0)\n",
            "Requirement already satisfied: pyparsing>=2.0.2 in /usr/local/lib/python3.6/dist-packages (from packaging->transformers) (2.4.7)\n",
            "Building wheels for collected packages: sacremoses\n",
            "  Building wheel for sacremoses (setup.py) ... \u001b[?25l\u001b[?25hdone\n",
            "  Created wheel for sacremoses: filename=sacremoses-0.0.43-cp36-none-any.whl size=893260 sha256=4b4a67a1800e20dd5615a9affa507883cd1872b8ae57989e24229206e4c088ec\n",
            "  Stored in directory: /root/.cache/pip/wheels/29/3c/fd/7ce5c3f0666dab31a50123635e6fb5e19ceb42ce38d4e58f45\n",
            "Successfully built sacremoses\n",
            "Installing collected packages: tokenizers, sentencepiece, sacremoses, transformers\n",
            "Successfully installed sacremoses-0.0.43 sentencepiece-0.1.91 tokenizers-0.8.1rc1 transformers-3.0.2\n"
          ],
          "name": "stdout"
        }
      ]
    },
    {
      "cell_type": "code",
      "metadata": {
        "id": "VpNQKRndjpgt",
        "colab_type": "code",
        "colab": {
          "base_uri": "https://localhost:8080/",
          "height": 466,
          "referenced_widgets": [
            "c938e53fe8974ee9a31f5b0047721970",
            "035c38976d7d4cc5bed0fdcd7a56e935",
            "cc2332d6451f438fb12d5dd634ab38ee",
            "874f9a4878c14bfd8faa5945c3b394e1",
            "b35f8ce4739040099480ad0e438fd66f",
            "946404a5dc22465faf0227795f9f1025",
            "8cb9cadbe9cd495e8d788fb17e293416",
            "df1b061254544c49907b5bb0323ae293",
            "4e39f8f001ba43559f3c89470431c7b4",
            "88252737399b4895880d2557a4f59d1f",
            "d910010e3d444af08719347304c9eaee",
            "e57232c5de6848afbf9a7ed23567f46e",
            "5d00f661214c4c46ab5ed44cb3a62cc4",
            "9b891cdb5a6448a0b7efca549ab0f666",
            "a2f668f74427479395476b30847e53c3",
            "bfb44c057a144dd5a7f31e38795ed4cf"
          ]
        },
        "outputId": "32e5c32b-a81e-44a8-d036-887ecf04b154"
      },
      "source": [
        "from transformers import * # BERT is from HUGGINGFACE\n",
        "\n",
        "model_bert = TFBertForSequenceClassification.from_pretrained('bert-base-cased')\n",
        "\n",
        "model_bert.compile(loss='binary_crossentropy',\n",
        "              optimizer='adam', \n",
        "              metrics=['accuracy'])\n",
        "model_bert.summary()"
      ],
      "execution_count": 24,
      "outputs": [
        {
          "output_type": "display_data",
          "data": {
            "application/vnd.jupyter.widget-view+json": {
              "model_id": "c938e53fe8974ee9a31f5b0047721970",
              "version_minor": 0,
              "version_major": 2
            },
            "text/plain": [
              "HBox(children=(FloatProgress(value=0.0, description='Downloading', max=433.0, style=ProgressStyle(description_…"
            ]
          },
          "metadata": {
            "tags": []
          }
        },
        {
          "output_type": "stream",
          "text": [
            "\n"
          ],
          "name": "stdout"
        },
        {
          "output_type": "display_data",
          "data": {
            "application/vnd.jupyter.widget-view+json": {
              "model_id": "4e39f8f001ba43559f3c89470431c7b4",
              "version_minor": 0,
              "version_major": 2
            },
            "text/plain": [
              "HBox(children=(FloatProgress(value=0.0, description='Downloading', max=526681800.0, style=ProgressStyle(descri…"
            ]
          },
          "metadata": {
            "tags": []
          }
        },
        {
          "output_type": "stream",
          "text": [
            "\n"
          ],
          "name": "stdout"
        },
        {
          "output_type": "stream",
          "text": [
            "Some weights of the model checkpoint at bert-base-cased were not used when initializing TFBertForSequenceClassification: ['nsp___cls', 'mlm___cls']\n",
            "- This IS expected if you are initializing TFBertForSequenceClassification from the checkpoint of a model trained on another task or with another architecture (e.g. initializing a BertForSequenceClassification model from a BertForPretraining model).\n",
            "- This IS NOT expected if you are initializing TFBertForSequenceClassification from the checkpoint of a model that you expect to be exactly identical (initializing a BertForSequenceClassification model from a BertForSequenceClassification model).\n",
            "Some weights of TFBertForSequenceClassification were not initialized from the model checkpoint at bert-base-cased and are newly initialized: ['classifier', 'dropout_40']\n",
            "You should probably TRAIN this model on a down-stream task to be able to use it for predictions and inference.\n"
          ],
          "name": "stderr"
        },
        {
          "output_type": "stream",
          "text": [
            "Model: \"tf_bert_for_sequence_classification\"\n",
            "_________________________________________________________________\n",
            "Layer (type)                 Output Shape              Param #   \n",
            "=================================================================\n",
            "bert (TFBertMainLayer)       multiple                  108310272 \n",
            "_________________________________________________________________\n",
            "dropout_40 (Dropout)         multiple                  0         \n",
            "_________________________________________________________________\n",
            "classifier (Dense)           multiple                  1538      \n",
            "=================================================================\n",
            "Total params: 108,311,810\n",
            "Trainable params: 108,311,810\n",
            "Non-trainable params: 0\n",
            "_________________________________________________________________\n"
          ],
          "name": "stdout"
        }
      ]
    },
    {
      "cell_type": "code",
      "metadata": {
        "id": "CLyZHUGgk7GW",
        "colab_type": "code",
        "colab": {
          "base_uri": "https://localhost:8080/",
          "height": 399
        },
        "outputId": "19a9e957-171d-4aec-b46b-9997882f6f12"
      },
      "source": [
        "output_bert = model_bert.fit(x_train, \n",
        "                         y_train, \n",
        "                         batch_size=batch_size, \n",
        "                         epochs=5, \n",
        "                         validation_data=(x_test, y_test))"
      ],
      "execution_count": 25,
      "outputs": [
        {
          "output_type": "stream",
          "text": [
            "Epoch 1/5\n",
            "691/782 [=========================>....] - ETA: 46s - loss: 7.5487 - accuracy: 0.4989"
          ],
          "name": "stdout"
        },
        {
          "output_type": "error",
          "ename": "KeyboardInterrupt",
          "evalue": "ignored",
          "traceback": [
            "\u001b[0;31m---------------------------------------------------------------------------\u001b[0m",
            "\u001b[0;31mKeyboardInterrupt\u001b[0m                         Traceback (most recent call last)",
            "\u001b[0;32m<ipython-input-25-8ef6eee63620>\u001b[0m in \u001b[0;36m<module>\u001b[0;34m()\u001b[0m\n\u001b[1;32m      3\u001b[0m                          \u001b[0mbatch_size\u001b[0m\u001b[0;34m=\u001b[0m\u001b[0mbatch_size\u001b[0m\u001b[0;34m,\u001b[0m\u001b[0;34m\u001b[0m\u001b[0;34m\u001b[0m\u001b[0m\n\u001b[1;32m      4\u001b[0m                          \u001b[0mepochs\u001b[0m\u001b[0;34m=\u001b[0m\u001b[0;36m5\u001b[0m\u001b[0;34m,\u001b[0m\u001b[0;34m\u001b[0m\u001b[0;34m\u001b[0m\u001b[0m\n\u001b[0;32m----> 5\u001b[0;31m                          validation_data=(x_test, y_test))\n\u001b[0m",
            "\u001b[0;32m/usr/local/lib/python3.6/dist-packages/tensorflow/python/keras/engine/training.py\u001b[0m in \u001b[0;36m_method_wrapper\u001b[0;34m(self, *args, **kwargs)\u001b[0m\n\u001b[1;32m    106\u001b[0m   \u001b[0;32mdef\u001b[0m \u001b[0m_method_wrapper\u001b[0m\u001b[0;34m(\u001b[0m\u001b[0mself\u001b[0m\u001b[0;34m,\u001b[0m \u001b[0;34m*\u001b[0m\u001b[0margs\u001b[0m\u001b[0;34m,\u001b[0m \u001b[0;34m**\u001b[0m\u001b[0mkwargs\u001b[0m\u001b[0;34m)\u001b[0m\u001b[0;34m:\u001b[0m\u001b[0;34m\u001b[0m\u001b[0;34m\u001b[0m\u001b[0m\n\u001b[1;32m    107\u001b[0m     \u001b[0;32mif\u001b[0m \u001b[0;32mnot\u001b[0m \u001b[0mself\u001b[0m\u001b[0;34m.\u001b[0m\u001b[0m_in_multi_worker_mode\u001b[0m\u001b[0;34m(\u001b[0m\u001b[0;34m)\u001b[0m\u001b[0;34m:\u001b[0m  \u001b[0;31m# pylint: disable=protected-access\u001b[0m\u001b[0;34m\u001b[0m\u001b[0;34m\u001b[0m\u001b[0m\n\u001b[0;32m--> 108\u001b[0;31m       \u001b[0;32mreturn\u001b[0m \u001b[0mmethod\u001b[0m\u001b[0;34m(\u001b[0m\u001b[0mself\u001b[0m\u001b[0;34m,\u001b[0m \u001b[0;34m*\u001b[0m\u001b[0margs\u001b[0m\u001b[0;34m,\u001b[0m \u001b[0;34m**\u001b[0m\u001b[0mkwargs\u001b[0m\u001b[0;34m)\u001b[0m\u001b[0;34m\u001b[0m\u001b[0;34m\u001b[0m\u001b[0m\n\u001b[0m\u001b[1;32m    109\u001b[0m \u001b[0;34m\u001b[0m\u001b[0m\n\u001b[1;32m    110\u001b[0m     \u001b[0;31m# Running inside `run_distribute_coordinator` already.\u001b[0m\u001b[0;34m\u001b[0m\u001b[0;34m\u001b[0m\u001b[0;34m\u001b[0m\u001b[0m\n",
            "\u001b[0;32m/usr/local/lib/python3.6/dist-packages/tensorflow/python/keras/engine/training.py\u001b[0m in \u001b[0;36mfit\u001b[0;34m(self, x, y, batch_size, epochs, verbose, callbacks, validation_split, validation_data, shuffle, class_weight, sample_weight, initial_epoch, steps_per_epoch, validation_steps, validation_batch_size, validation_freq, max_queue_size, workers, use_multiprocessing)\u001b[0m\n\u001b[1;32m   1096\u001b[0m                 batch_size=batch_size):\n\u001b[1;32m   1097\u001b[0m               \u001b[0mcallbacks\u001b[0m\u001b[0;34m.\u001b[0m\u001b[0mon_train_batch_begin\u001b[0m\u001b[0;34m(\u001b[0m\u001b[0mstep\u001b[0m\u001b[0;34m)\u001b[0m\u001b[0;34m\u001b[0m\u001b[0;34m\u001b[0m\u001b[0m\n\u001b[0;32m-> 1098\u001b[0;31m               \u001b[0mtmp_logs\u001b[0m \u001b[0;34m=\u001b[0m \u001b[0mtrain_function\u001b[0m\u001b[0;34m(\u001b[0m\u001b[0miterator\u001b[0m\u001b[0;34m)\u001b[0m\u001b[0;34m\u001b[0m\u001b[0;34m\u001b[0m\u001b[0m\n\u001b[0m\u001b[1;32m   1099\u001b[0m               \u001b[0;32mif\u001b[0m \u001b[0mdata_handler\u001b[0m\u001b[0;34m.\u001b[0m\u001b[0mshould_sync\u001b[0m\u001b[0;34m:\u001b[0m\u001b[0;34m\u001b[0m\u001b[0;34m\u001b[0m\u001b[0m\n\u001b[1;32m   1100\u001b[0m                 \u001b[0mcontext\u001b[0m\u001b[0;34m.\u001b[0m\u001b[0masync_wait\u001b[0m\u001b[0;34m(\u001b[0m\u001b[0;34m)\u001b[0m\u001b[0;34m\u001b[0m\u001b[0;34m\u001b[0m\u001b[0m\n",
            "\u001b[0;32m/usr/local/lib/python3.6/dist-packages/tensorflow/python/eager/def_function.py\u001b[0m in \u001b[0;36m__call__\u001b[0;34m(self, *args, **kwds)\u001b[0m\n\u001b[1;32m    778\u001b[0m       \u001b[0;32melse\u001b[0m\u001b[0;34m:\u001b[0m\u001b[0;34m\u001b[0m\u001b[0;34m\u001b[0m\u001b[0m\n\u001b[1;32m    779\u001b[0m         \u001b[0mcompiler\u001b[0m \u001b[0;34m=\u001b[0m \u001b[0;34m\"nonXla\"\u001b[0m\u001b[0;34m\u001b[0m\u001b[0;34m\u001b[0m\u001b[0m\n\u001b[0;32m--> 780\u001b[0;31m         \u001b[0mresult\u001b[0m \u001b[0;34m=\u001b[0m \u001b[0mself\u001b[0m\u001b[0;34m.\u001b[0m\u001b[0m_call\u001b[0m\u001b[0;34m(\u001b[0m\u001b[0;34m*\u001b[0m\u001b[0margs\u001b[0m\u001b[0;34m,\u001b[0m \u001b[0;34m**\u001b[0m\u001b[0mkwds\u001b[0m\u001b[0;34m)\u001b[0m\u001b[0;34m\u001b[0m\u001b[0;34m\u001b[0m\u001b[0m\n\u001b[0m\u001b[1;32m    781\u001b[0m \u001b[0;34m\u001b[0m\u001b[0m\n\u001b[1;32m    782\u001b[0m       \u001b[0mnew_tracing_count\u001b[0m \u001b[0;34m=\u001b[0m \u001b[0mself\u001b[0m\u001b[0;34m.\u001b[0m\u001b[0m_get_tracing_count\u001b[0m\u001b[0;34m(\u001b[0m\u001b[0;34m)\u001b[0m\u001b[0;34m\u001b[0m\u001b[0;34m\u001b[0m\u001b[0m\n",
            "\u001b[0;32m/usr/local/lib/python3.6/dist-packages/tensorflow/python/eager/def_function.py\u001b[0m in \u001b[0;36m_call\u001b[0;34m(self, *args, **kwds)\u001b[0m\n\u001b[1;32m    805\u001b[0m       \u001b[0;31m# In this case we have created variables on the first call, so we run the\u001b[0m\u001b[0;34m\u001b[0m\u001b[0;34m\u001b[0m\u001b[0;34m\u001b[0m\u001b[0m\n\u001b[1;32m    806\u001b[0m       \u001b[0;31m# defunned version which is guaranteed to never create variables.\u001b[0m\u001b[0;34m\u001b[0m\u001b[0;34m\u001b[0m\u001b[0;34m\u001b[0m\u001b[0m\n\u001b[0;32m--> 807\u001b[0;31m       \u001b[0;32mreturn\u001b[0m \u001b[0mself\u001b[0m\u001b[0;34m.\u001b[0m\u001b[0m_stateless_fn\u001b[0m\u001b[0;34m(\u001b[0m\u001b[0;34m*\u001b[0m\u001b[0margs\u001b[0m\u001b[0;34m,\u001b[0m \u001b[0;34m**\u001b[0m\u001b[0mkwds\u001b[0m\u001b[0;34m)\u001b[0m  \u001b[0;31m# pylint: disable=not-callable\u001b[0m\u001b[0;34m\u001b[0m\u001b[0;34m\u001b[0m\u001b[0m\n\u001b[0m\u001b[1;32m    808\u001b[0m     \u001b[0;32melif\u001b[0m \u001b[0mself\u001b[0m\u001b[0;34m.\u001b[0m\u001b[0m_stateful_fn\u001b[0m \u001b[0;32mis\u001b[0m \u001b[0;32mnot\u001b[0m \u001b[0;32mNone\u001b[0m\u001b[0;34m:\u001b[0m\u001b[0;34m\u001b[0m\u001b[0;34m\u001b[0m\u001b[0m\n\u001b[1;32m    809\u001b[0m       \u001b[0;31m# Release the lock early so that multiple threads can perform the call\u001b[0m\u001b[0;34m\u001b[0m\u001b[0;34m\u001b[0m\u001b[0;34m\u001b[0m\u001b[0m\n",
            "\u001b[0;32m/usr/local/lib/python3.6/dist-packages/tensorflow/python/eager/function.py\u001b[0m in \u001b[0;36m__call__\u001b[0;34m(self, *args, **kwargs)\u001b[0m\n\u001b[1;32m   2827\u001b[0m     \u001b[0;32mwith\u001b[0m \u001b[0mself\u001b[0m\u001b[0;34m.\u001b[0m\u001b[0m_lock\u001b[0m\u001b[0;34m:\u001b[0m\u001b[0;34m\u001b[0m\u001b[0;34m\u001b[0m\u001b[0m\n\u001b[1;32m   2828\u001b[0m       \u001b[0mgraph_function\u001b[0m\u001b[0;34m,\u001b[0m \u001b[0margs\u001b[0m\u001b[0;34m,\u001b[0m \u001b[0mkwargs\u001b[0m \u001b[0;34m=\u001b[0m \u001b[0mself\u001b[0m\u001b[0;34m.\u001b[0m\u001b[0m_maybe_define_function\u001b[0m\u001b[0;34m(\u001b[0m\u001b[0margs\u001b[0m\u001b[0;34m,\u001b[0m \u001b[0mkwargs\u001b[0m\u001b[0;34m)\u001b[0m\u001b[0;34m\u001b[0m\u001b[0;34m\u001b[0m\u001b[0m\n\u001b[0;32m-> 2829\u001b[0;31m     \u001b[0;32mreturn\u001b[0m \u001b[0mgraph_function\u001b[0m\u001b[0;34m.\u001b[0m\u001b[0m_filtered_call\u001b[0m\u001b[0;34m(\u001b[0m\u001b[0margs\u001b[0m\u001b[0;34m,\u001b[0m \u001b[0mkwargs\u001b[0m\u001b[0;34m)\u001b[0m  \u001b[0;31m# pylint: disable=protected-access\u001b[0m\u001b[0;34m\u001b[0m\u001b[0;34m\u001b[0m\u001b[0m\n\u001b[0m\u001b[1;32m   2830\u001b[0m \u001b[0;34m\u001b[0m\u001b[0m\n\u001b[1;32m   2831\u001b[0m   \u001b[0;34m@\u001b[0m\u001b[0mproperty\u001b[0m\u001b[0;34m\u001b[0m\u001b[0;34m\u001b[0m\u001b[0m\n",
            "\u001b[0;32m/usr/local/lib/python3.6/dist-packages/tensorflow/python/eager/function.py\u001b[0m in \u001b[0;36m_filtered_call\u001b[0;34m(self, args, kwargs, cancellation_manager)\u001b[0m\n\u001b[1;32m   1846\u001b[0m                            resource_variable_ops.BaseResourceVariable))],\n\u001b[1;32m   1847\u001b[0m         \u001b[0mcaptured_inputs\u001b[0m\u001b[0;34m=\u001b[0m\u001b[0mself\u001b[0m\u001b[0;34m.\u001b[0m\u001b[0mcaptured_inputs\u001b[0m\u001b[0;34m,\u001b[0m\u001b[0;34m\u001b[0m\u001b[0;34m\u001b[0m\u001b[0m\n\u001b[0;32m-> 1848\u001b[0;31m         cancellation_manager=cancellation_manager)\n\u001b[0m\u001b[1;32m   1849\u001b[0m \u001b[0;34m\u001b[0m\u001b[0m\n\u001b[1;32m   1850\u001b[0m   \u001b[0;32mdef\u001b[0m \u001b[0m_call_flat\u001b[0m\u001b[0;34m(\u001b[0m\u001b[0mself\u001b[0m\u001b[0;34m,\u001b[0m \u001b[0margs\u001b[0m\u001b[0;34m,\u001b[0m \u001b[0mcaptured_inputs\u001b[0m\u001b[0;34m,\u001b[0m \u001b[0mcancellation_manager\u001b[0m\u001b[0;34m=\u001b[0m\u001b[0;32mNone\u001b[0m\u001b[0;34m)\u001b[0m\u001b[0;34m:\u001b[0m\u001b[0;34m\u001b[0m\u001b[0;34m\u001b[0m\u001b[0m\n",
            "\u001b[0;32m/usr/local/lib/python3.6/dist-packages/tensorflow/python/eager/function.py\u001b[0m in \u001b[0;36m_call_flat\u001b[0;34m(self, args, captured_inputs, cancellation_manager)\u001b[0m\n\u001b[1;32m   1922\u001b[0m       \u001b[0;31m# No tape is watching; skip to running the function.\u001b[0m\u001b[0;34m\u001b[0m\u001b[0;34m\u001b[0m\u001b[0;34m\u001b[0m\u001b[0m\n\u001b[1;32m   1923\u001b[0m       return self._build_call_outputs(self._inference_function.call(\n\u001b[0;32m-> 1924\u001b[0;31m           ctx, args, cancellation_manager=cancellation_manager))\n\u001b[0m\u001b[1;32m   1925\u001b[0m     forward_backward = self._select_forward_and_backward_functions(\n\u001b[1;32m   1926\u001b[0m         \u001b[0margs\u001b[0m\u001b[0;34m,\u001b[0m\u001b[0;34m\u001b[0m\u001b[0;34m\u001b[0m\u001b[0m\n",
            "\u001b[0;32m/usr/local/lib/python3.6/dist-packages/tensorflow/python/eager/function.py\u001b[0m in \u001b[0;36mcall\u001b[0;34m(self, ctx, args, cancellation_manager)\u001b[0m\n\u001b[1;32m    548\u001b[0m               \u001b[0minputs\u001b[0m\u001b[0;34m=\u001b[0m\u001b[0margs\u001b[0m\u001b[0;34m,\u001b[0m\u001b[0;34m\u001b[0m\u001b[0;34m\u001b[0m\u001b[0m\n\u001b[1;32m    549\u001b[0m               \u001b[0mattrs\u001b[0m\u001b[0;34m=\u001b[0m\u001b[0mattrs\u001b[0m\u001b[0;34m,\u001b[0m\u001b[0;34m\u001b[0m\u001b[0;34m\u001b[0m\u001b[0m\n\u001b[0;32m--> 550\u001b[0;31m               ctx=ctx)\n\u001b[0m\u001b[1;32m    551\u001b[0m         \u001b[0;32melse\u001b[0m\u001b[0;34m:\u001b[0m\u001b[0;34m\u001b[0m\u001b[0;34m\u001b[0m\u001b[0m\n\u001b[1;32m    552\u001b[0m           outputs = execute.execute_with_cancellation(\n",
            "\u001b[0;32m/usr/local/lib/python3.6/dist-packages/tensorflow/python/eager/execute.py\u001b[0m in \u001b[0;36mquick_execute\u001b[0;34m(op_name, num_outputs, inputs, attrs, ctx, name)\u001b[0m\n\u001b[1;32m     58\u001b[0m     \u001b[0mctx\u001b[0m\u001b[0;34m.\u001b[0m\u001b[0mensure_initialized\u001b[0m\u001b[0;34m(\u001b[0m\u001b[0;34m)\u001b[0m\u001b[0;34m\u001b[0m\u001b[0;34m\u001b[0m\u001b[0m\n\u001b[1;32m     59\u001b[0m     tensors = pywrap_tfe.TFE_Py_Execute(ctx._handle, device_name, op_name,\n\u001b[0;32m---> 60\u001b[0;31m                                         inputs, attrs, num_outputs)\n\u001b[0m\u001b[1;32m     61\u001b[0m   \u001b[0;32mexcept\u001b[0m \u001b[0mcore\u001b[0m\u001b[0;34m.\u001b[0m\u001b[0m_NotOkStatusException\u001b[0m \u001b[0;32mas\u001b[0m \u001b[0me\u001b[0m\u001b[0;34m:\u001b[0m\u001b[0;34m\u001b[0m\u001b[0;34m\u001b[0m\u001b[0m\n\u001b[1;32m     62\u001b[0m     \u001b[0;32mif\u001b[0m \u001b[0mname\u001b[0m \u001b[0;32mis\u001b[0m \u001b[0;32mnot\u001b[0m \u001b[0;32mNone\u001b[0m\u001b[0;34m:\u001b[0m\u001b[0;34m\u001b[0m\u001b[0;34m\u001b[0m\u001b[0m\n",
            "\u001b[0;31mKeyboardInterrupt\u001b[0m: "
          ]
        }
      ]
    },
    {
      "cell_type": "markdown",
      "metadata": {
        "id": "bsJok9csQzGh",
        "colab_type": "text"
      },
      "source": [
        "PLACE TO GET PRETRAINED MODELS THAT RUN VERY WELL\n",
        "[HUGGINGFACE](https://huggingface.co/)\n"
      ]
    },
    {
      "cell_type": "markdown",
      "metadata": {
        "id": "kJgXsELRA2pn",
        "colab_type": "text"
      },
      "source": [
        "## Challenge\n",
        "\n",
        "You will be expected to use an Keras LSTM for a classicification task on the *Sprint Challenge*. "
      ]
    },
    {
      "cell_type": "markdown",
      "metadata": {
        "colab_type": "text",
        "id": "7pETWPIe362y"
      },
      "source": [
        "# LSTM Text generation with Keras (Learn)"
      ]
    },
    {
      "cell_type": "markdown",
      "metadata": {
        "colab_type": "text",
        "id": "IpcVPSLIA2po"
      },
      "source": [
        "## Overview\n",
        "\n",
        "What else can we do with LSTMs? Since we're analyzing the *sequence*, we can do more than classify - we can *generate* text. I'ved pulled some news stories using [newspaper](https://github.com/codelucas/newspaper/).\n",
        "\n",
        "This example is drawn from the Keras [documentation](https://keras.io/examples/lstm_text_generation/)."
      ]
    },
    {
      "cell_type": "code",
      "metadata": {
        "id": "Y1WW7GaeA2po",
        "colab_type": "code",
        "colab": {}
      },
      "source": [
        "from tensorflow.keras.callbacks import LambdaCallback\n",
        "from tensorflow.keras.models import Sequential\n",
        "from tensorflow.keras.layers import Dense, LSTM\n",
        "from tensorflow.keras.optimizers import RMSprop\n",
        "\n",
        "import numpy as np\n",
        "import random\n",
        "import sys\n",
        "import os"
      ],
      "execution_count": 26,
      "outputs": []
    },
    {
      "cell_type": "code",
      "metadata": {
        "id": "G5klboIFJyWb",
        "colab_type": "code",
        "colab": {
          "base_uri": "https://localhost:8080/",
          "height": 104
        },
        "outputId": "72e01256-465d-4aec-c9d7-145adb71b068"
      },
      "source": [
        "# grabbing some files from the repo\n",
        "! git clone https://github.com/LambdaSchool/DS-Unit-4-Sprint-3-Deep-Learning.git"
      ],
      "execution_count": 27,
      "outputs": [
        {
          "output_type": "stream",
          "text": [
            "Cloning into 'DS-Unit-4-Sprint-3-Deep-Learning'...\n",
            "remote: Enumerating objects: 1112, done.\u001b[K\n",
            "remote: Total 1112 (delta 0), reused 0 (delta 0), pack-reused 1112\u001b[K\n",
            "Receiving objects: 100% (1112/1112), 100.15 MiB | 42.15 MiB/s, done.\n",
            "Resolving deltas: 100% (124/124), done.\n"
          ],
          "name": "stdout"
        }
      ]
    },
    {
      "cell_type": "code",
      "metadata": {
        "id": "vlM4jtxzJ6J5",
        "colab_type": "code",
        "colab": {}
      },
      "source": [
        "! mv DS-Unit-4-Sprint-3-Deep-Learning/module1-rnn-and-lstm/articles/ ."
      ],
      "execution_count": 28,
      "outputs": []
    },
    {
      "cell_type": "code",
      "metadata": {
        "id": "3FyJIoaIA2pq",
        "colab_type": "code",
        "colab": {}
      },
      "source": [
        "data_files = os.listdir('./articles')"
      ],
      "execution_count": 29,
      "outputs": []
    },
    {
      "cell_type": "code",
      "metadata": {
        "id": "Z61UQQjdA2ps",
        "colab_type": "code",
        "colab": {}
      },
      "source": [
        "# Read in Data\n",
        "\n",
        "data = []\n",
        "\n",
        "for file in data_files:\n",
        "    if file[-3:] == 'txt':\n",
        "        with open(f'./articles/{file}', 'r', encoding='utf-8') as f:\n",
        "            data.append(f.read())"
      ],
      "execution_count": 30,
      "outputs": []
    },
    {
      "cell_type": "code",
      "metadata": {
        "id": "HGmBnQFVA2pu",
        "colab_type": "code",
        "colab": {
          "base_uri": "https://localhost:8080/",
          "height": 34
        },
        "outputId": "733cc52b-5c14-4930-d18c-8060903c7e1e"
      },
      "source": [
        "len(data) # number of news articles"
      ],
      "execution_count": 31,
      "outputs": [
        {
          "output_type": "execute_result",
          "data": {
            "text/plain": [
              "136"
            ]
          },
          "metadata": {
            "tags": []
          },
          "execution_count": 31
        }
      ]
    },
    {
      "cell_type": "code",
      "metadata": {
        "id": "7dlHIO7wA2pw",
        "colab_type": "code",
        "colab": {
          "base_uri": "https://localhost:8080/",
          "height": 175
        },
        "outputId": "ccb8e6ae-f9f8-4bc9-ccb9-8a547987d150"
      },
      "source": [
        "data[-1] # last article"
      ],
      "execution_count": 32,
      "outputs": [
        {
          "output_type": "execute_result",
          "data": {
            "application/vnd.google.colaboratory.intrinsic+json": {
              "type": "string"
            },
            "text/plain": [
              "'”Between the Towers,” shown here, is the central image in Mordicai Gerstein’s 2003 children’s book “The Man Who Walked Between the Towers.” (Mordicai Gerstein/Courtesy of R. Michelson Galleries)\\n\\nMordicai Gerstein, a children’s author and illustrator whose imaginative, exuberant works included a celebrated picture book in which he set out to “resurrect” the fallen World Trade Center towers — if only on the page — by retelling the true story of a French tightrope walker who once crisscrossed the air between them, died Sept. 24 at his home in Westhampton, Mass. He was 83.\\n\\nThe cause was esophageal cancer, said his wife, Susan Yard Harris.\\n\\nMr. Gerstein did not begin illustrating children’s books until he was nearly 40, after working for more than a decade in film and TV animation. He found in picture books a vehicle of expression far more magical than any television screen, one with limitless possibilities for exploration and discovery.\\n\\n“For me, picture books are little theaters one holds in the hand and operates by turning the pages,” he once wrote. “I make my books for everyone, not just children. All of us are either children or have been children.”\\n\\nHe created more than 40 books, filling them with artwork that invited comparisons to the paintings of Marc Chagall for the color and energy that animated them. His themes and source material knew almost no boundaries, drawing as they did from Greek mythology, the Old Testament and ancient Jewish traditions, “The Tibetan Book of the Dead,” the natural world, and news stories that caught Mr. Gerstein’s fancy.\\n\\nIn the latter category was “The Man Who Walked Between the Towers” (2003), winner of the Caldecott Medal, the most prestigious honor for children’s book illustrations. The book was based on the exploits of Philippe Petit, a French aerialist who in 1974 strung a cable between the twin towers in Lower Manhattan and then stunned New Yorkers a quarter-mile below by walking, even dancing, on the tightrope for 45 minutes.\\n\\n\\n\\nMr. Gerstein, who received the Caldecott Medal for his book “The Man Who Walked Between the Towers,” died Sept. 24 at 83. (Seth Kaye Photography/Courtesy of R. Michelson Galleries)\\n\\nMr. Gerstein, who worked for years in New York and knew Petit as a unicycle-riding, torch-juggling street performer, missed Petit’s master performance at the World Trade Center that breezy August morning. But he read about it in the news and, enthralled by the idea, filed it away in his mind.\\n\\nHe returned to it soon after Sept. 11, 2001, when the twin towers were struck by hijacked airplanes in the deadliest terrorist attack ever on American soil. As the buildings collapsed, Mr. Gerstein said, he remembered Petit’s tightrope walk — that jaunty display of derring-do in a place that, after 9/11, would forever be remembered for the tragedy that had happened there.\\n\\n“I didn’t want to just tell the story of the walk — I wanted the book to be the walk between cardboard covers,” Publishers Weekly quoted him as saying. “I wanted this book to cause real vertigo, to put the reader, child or adult — and of course myself — on the wire.”\\n\\nHe began the book in the fashion of fairy tales and stories from time immemorial: “Once there were two towers side by side . . .” His illustrations of Petit on the tightrope relied on skillful use of perspective, bringing the reader into the sky with the birds soaring above.\\n\\nAnd then the flight ends.\\n\\n1 of 60 Full Screen Autoplay Close Skip Ad × Notable deaths in 2019: Ric Ocasek, Valerie Harper, Ross Perot, Toni Morrison, and others we have lost this year View Photos Remembering those who have died in 2019. Caption Remembering those who have died in 2019. Mj Kim/AP Buy Photo Wait 1 second to continue.\\n\\n“Now the towers are gone,” read the final passage, leaving a grown-up to decide whether or when to explain to the child how or why. “But in memory, as if imprinted on the sky, the towers are still there. And part of that memory is the joyful morning, August 7, 1974, when Philippe Petit walked between them in the air.”\\n\\nLike the feat it recounted, “The Man Who Walked Between the Towers” was “itself a daredevil act,” literary reporter David Mehegan wrote in the Boston Globe, “a story of New York’s World Trade Center filled with wit and laughter, without smoke, flame, or horror.”\\n\\nThe book “is a milestone,” he continued. “It proves that it is possible to speak of the twin towers, even with children, in a context other than murderous destruction.”\\n\\nMordicai Menachem Mendel Gerstein was born in Los Angeles on Nov. 24, 1935. His father was a wholesale grocer who wrote plays in his retirement. His mother, a homemaker, instilled in her son a love of books and artwork.\\n\\nMr. Gerstein studied at the Chouinard Art Institute in California, now part of the California Institute of the Arts, before beginning his animation career in Los Angeles and then New York. He did film, television and commercial work before making his first foray into children’s literature in the 1970s as the illustrator of the “Something Queer Is Going On” mystery series by writer Elizabeth Levy, with whom he worked for decades.\\n\\nHe began to illustrate his own works in the 1980s, beginning with “Arnold of the Ducks,” a story about a boy taken in and raised by ducks. In an early display of Mr. Gerstein’s whimsy, the boy is returned to his family by a kite, although the quacking of ducks will always exert a pull on his heart. Mr. Gerstein said the manuscript was rejected seven times before it was published in 1983.\\n\\nHis other books included “Tales of Pan” (1986), “Noah and the Great Flood” (1999) and “The White Ram: A Story of Abraham and Isaac” (2006).\\n\\nIn “What Charlie Heard” (2002), he said he sought to help children see sound — as well as silence — on the page in his account of the life of the American modernist composer Charles Ives. His picture book “The Wild Boy,” selected by the New York Times as one of the best illustrated books of 1998, as well as the young-adult novel “Victor” (also 1998), were based on the true story of a feral boy who emerged from the woods of southern France in the winter of 1800 and was civilized — to a degree — by a young doctor.\\n\\n“I’m always looking for things that puzzle and disturb or amuse me,” he once said. “I make books for people, most of whom happen to be children, and I try to address the most essential parts of all of us.”\\n\\nMr. Gerstein’s marriage to Sandra MacDonald ended in divorce. Their son Jesse Gerstein died in 1991. Survivors include his wife of 35 years, Susan Yard Harris of Westhampton; a son from his first marriage, Aram Gerstein of San Francisco; a daughter from his second marriage, Risa Harris-Gerstein of Brooklyn; a brother; two grandchildren; and a great-grandson.\\n\\nAs time passed after the publication of “The Man Who Walked Between the Towers,” the book gathered new young readers, with new grown-ups to guide them through the story. Instead of parents who had turned off the TV to spare their children the news footage of airplanes tearing through skyscrapers, there were parents who had seen those images when they were young, and their own children, who would know 9/11 only as an event in history.\\n\\n“It’s almost a fairy tale,” Mr. Gerstein told the Globe, speaking of his book. “It’s a way to restore the towers to children whose only image of them is on fire. It shows them in another context — how big they were, and the space between them. I resurrect them in the mind.”'"
            ]
          },
          "metadata": {
            "tags": []
          },
          "execution_count": 32
        }
      ]
    },
    {
      "cell_type": "code",
      "metadata": {
        "id": "__blzmCbA2px",
        "colab_type": "code",
        "colab": {}
      },
      "source": [
        "# Encode Data as Chars\n",
        "# manual preprocessing\n",
        "\n",
        "# Gather all text \n",
        "# Why? 1. See all possible characters 2. For training / splitting later\n",
        "text = \" \".join(data)\n",
        "\n",
        "# Unique Characters\n",
        "chars = list(set(text))\n",
        "\n",
        "# Lookup Tables\n",
        "char_int = {c:i for i, c in enumerate(chars)} \n",
        "int_char = {i:c for i, c in enumerate(chars)} "
      ],
      "execution_count": 33,
      "outputs": []
    },
    {
      "cell_type": "code",
      "metadata": {
        "id": "8yvRTFRuA2pz",
        "colab_type": "code",
        "colab": {
          "base_uri": "https://localhost:8080/",
          "height": 34
        },
        "outputId": "afdbe9d8-a1dc-4327-9c61-d022927e7a6a"
      },
      "source": [
        "len(chars) # number of unique characters"
      ],
      "execution_count": 34,
      "outputs": [
        {
          "output_type": "execute_result",
          "data": {
            "text/plain": [
              "121"
            ]
          },
          "metadata": {
            "tags": []
          },
          "execution_count": 34
        }
      ]
    },
    {
      "cell_type": "code",
      "metadata": {
        "id": "GZm8pN5rma7n",
        "colab_type": "code",
        "colab": {
          "base_uri": "https://localhost:8080/",
          "height": 1000
        },
        "outputId": "7501d274-91a5-439e-ec44-2fdd4e79cc65"
      },
      "source": [
        "int_char # number to character lookup"
      ],
      "execution_count": 35,
      "outputs": [
        {
          "output_type": "execute_result",
          "data": {
            "text/plain": [
              "{0: 'g',\n",
              " 1: 'W',\n",
              " 2: 'r',\n",
              " 3: '“',\n",
              " 4: ':',\n",
              " 5: ']',\n",
              " 6: '@',\n",
              " 7: 'ﬂ',\n",
              " 8: 'J',\n",
              " 9: '×',\n",
              " 10: 'c',\n",
              " 11: 'n',\n",
              " 12: 'S',\n",
              " 13: 'F',\n",
              " 14: 'ã',\n",
              " 15: 'M',\n",
              " 16: 'E',\n",
              " 17: 't',\n",
              " 18: '🤔',\n",
              " 19: '-',\n",
              " 20: '©',\n",
              " 21: 'ó',\n",
              " 22: '4',\n",
              " 23: '2',\n",
              " 24: 'ö',\n",
              " 25: 'f',\n",
              " 26: 'I',\n",
              " 27: '|',\n",
              " 28: '—',\n",
              " 29: '\\xad',\n",
              " 30: '.',\n",
              " 31: '👻',\n",
              " 32: '6',\n",
              " 33: '🗣',\n",
              " 34: 'H',\n",
              " 35: 's',\n",
              " 36: '”',\n",
              " 37: '#',\n",
              " 38: '0',\n",
              " 39: '•',\n",
              " 40: 'V',\n",
              " 41: '?',\n",
              " 42: '‘',\n",
              " 43: 'ê',\n",
              " 44: 'U',\n",
              " 45: 'C',\n",
              " 46: '–',\n",
              " 47: '8',\n",
              " 48: ')',\n",
              " 49: '●',\n",
              " 50: 'T',\n",
              " 51: 'ñ',\n",
              " 52: 'l',\n",
              " 53: '7',\n",
              " 54: ' ',\n",
              " 55: '\"',\n",
              " 56: 'b',\n",
              " 57: 'p',\n",
              " 58: 'z',\n",
              " 59: '*',\n",
              " 60: '⅔',\n",
              " 61: '5',\n",
              " 62: 'R',\n",
              " 63: 'B',\n",
              " 64: 'o',\n",
              " 65: 'X',\n",
              " 66: 'P',\n",
              " 67: 'w',\n",
              " 68: '/',\n",
              " 69: '―',\n",
              " 70: '½',\n",
              " 71: '(',\n",
              " 72: '_',\n",
              " 73: '!',\n",
              " 74: '⅓',\n",
              " 75: 'v',\n",
              " 76: 'G',\n",
              " 77: 'e',\n",
              " 78: '\\n',\n",
              " 79: ',',\n",
              " 80: '3',\n",
              " 81: 'Y',\n",
              " 82: 'u',\n",
              " 83: 'Q',\n",
              " 84: 'é',\n",
              " 85: '9',\n",
              " 86: 'x',\n",
              " 87: 'm',\n",
              " 88: 'K',\n",
              " 89: 'i',\n",
              " 90: '$',\n",
              " 91: 'á',\n",
              " 92: '1',\n",
              " 93: '&',\n",
              " 94: 'd',\n",
              " 95: 'Z',\n",
              " 96: 'è',\n",
              " 97: \"'\",\n",
              " 98: '\\u2069',\n",
              " 99: '{',\n",
              " 100: 'y',\n",
              " 101: 'j',\n",
              " 102: '’',\n",
              " 103: '[',\n",
              " 104: 'h',\n",
              " 105: 'D',\n",
              " 106: '⭐',\n",
              " 107: '+',\n",
              " 108: '\\u2066',\n",
              " 109: 'í',\n",
              " 110: 'q',\n",
              " 111: '…',\n",
              " 112: '%',\n",
              " 113: 'a',\n",
              " 114: ';',\n",
              " 115: 'k',\n",
              " 116: '·',\n",
              " 117: 'O',\n",
              " 118: 'A',\n",
              " 119: 'N',\n",
              " 120: 'L'}"
            ]
          },
          "metadata": {
            "tags": []
          },
          "execution_count": 35
        }
      ]
    },
    {
      "cell_type": "code",
      "metadata": {
        "id": "7xPrrW_kA2p1",
        "colab_type": "code",
        "colab": {
          "base_uri": "https://localhost:8080/",
          "height": 34
        },
        "outputId": "26d2d467-26f9-4cdf-e648-36a2916a9b08"
      },
      "source": [
        "# Create the sequence data\n",
        "# set up input data and labels\n",
        "\n",
        "maxlen = 40\n",
        "step = 5\n",
        "\n",
        "encoded = [char_int[c] for c in text]\n",
        "\n",
        "sequences = [] # Each element is 40 chars long\n",
        "next_char = [] # One element for each sequence\n",
        "\n",
        "for i in range(0, len(encoded) - maxlen, step):\n",
        "    \n",
        "    sequences.append(encoded[i : i + maxlen]) # training data\n",
        "    next_char.append(encoded[i + maxlen]) # labels\n",
        "    \n",
        "print('sequences: ', len(sequences))\n"
      ],
      "execution_count": 36,
      "outputs": [
        {
          "output_type": "stream",
          "text": [
            "sequences:  178374\n"
          ],
          "name": "stdout"
        }
      ]
    },
    {
      "cell_type": "code",
      "metadata": {
        "id": "O24FOioAA2p3",
        "colab_type": "code",
        "colab": {}
      },
      "source": [
        "sequences[0] # mapped numbers = characters"
      ],
      "execution_count": null,
      "outputs": []
    },
    {
      "cell_type": "code",
      "metadata": {
        "id": "tj7sCvZ_nKoD",
        "colab_type": "code",
        "colab": {}
      },
      "source": [
        "# for loop to see the reverse lookup (charcters from numbers)\n",
        "# for i in sequences[0]:\n",
        "#   print(int_char[i])"
      ],
      "execution_count": null,
      "outputs": []
    },
    {
      "cell_type": "code",
      "metadata": {
        "id": "sZK7hPD9naA_",
        "colab_type": "code",
        "colab": {
          "base_uri": "https://localhost:8080/",
          "height": 34
        },
        "outputId": "2e47697f-adaf-485d-82e7-c68f03d4e8d7"
      },
      "source": [
        "# label , character related to label\n",
        "next_char[0], int_char[next_char[0]]"
      ],
      "execution_count": 38,
      "outputs": [
        {
          "output_type": "execute_result",
          "data": {
            "text/plain": [
              "(2, 'r')"
            ]
          },
          "metadata": {
            "tags": []
          },
          "execution_count": 38
        }
      ]
    },
    {
      "cell_type": "code",
      "metadata": {
        "id": "hO8202TFA2p5",
        "colab_type": "code",
        "colab": {}
      },
      "source": [
        "# Create x & y\n",
        "\n",
        "x = np.zeros((len(sequences), maxlen, len(chars)), dtype=np.bool)\n",
        "y = np.zeros((len(sequences),len(chars)), dtype=np.bool)\n",
        "\n",
        "for i, sequence in enumerate(sequences):\n",
        "    for t, char in enumerate(sequence):\n",
        "        x[i,t,char] = 1\n",
        "    y[i, next_char[i]] = 1\n",
        "        "
      ],
      "execution_count": 40,
      "outputs": []
    },
    {
      "cell_type": "code",
      "metadata": {
        "id": "T0X8m7mRA2p7",
        "colab_type": "code",
        "colab": {
          "base_uri": "https://localhost:8080/",
          "height": 34
        },
        "outputId": "b079bc01-d854-4d9e-a63e-609ee74cbdcf"
      },
      "source": [
        "# shape = (sequences, number of characters, onehotencoded version of characters)\n",
        "x.shape"
      ],
      "execution_count": 41,
      "outputs": [
        {
          "output_type": "execute_result",
          "data": {
            "text/plain": [
              "(178374, 40, 121)"
            ]
          },
          "metadata": {
            "tags": []
          },
          "execution_count": 41
        }
      ]
    },
    {
      "cell_type": "code",
      "metadata": {
        "id": "wXs8kmfMrNPs",
        "colab_type": "code",
        "colab": {
          "base_uri": "https://localhost:8080/",
          "height": 139
        },
        "outputId": "61f1519f-bfc5-4fec-83a2-4c7258016599"
      },
      "source": [
        "x[0]"
      ],
      "execution_count": 42,
      "outputs": [
        {
          "output_type": "execute_result",
          "data": {
            "text/plain": [
              "array([[False, False, False, ..., False, False, False],\n",
              "       [False, False, False, ..., False, False, False],\n",
              "       [False, False, False, ..., False, False, False],\n",
              "       ...,\n",
              "       [False, False, False, ..., False, False, False],\n",
              "       [False, False, False, ..., False, False, False],\n",
              "       [False, False, False, ..., False, False, False]])"
            ]
          },
          "metadata": {
            "tags": []
          },
          "execution_count": 42
        }
      ]
    },
    {
      "cell_type": "code",
      "metadata": {
        "id": "3o4BlirWrV6g",
        "colab_type": "code",
        "colab": {}
      },
      "source": [
        "chars"
      ],
      "execution_count": null,
      "outputs": []
    },
    {
      "cell_type": "code",
      "metadata": {
        "id": "7O2yMVCoA2p9",
        "colab_type": "code",
        "colab": {
          "base_uri": "https://localhost:8080/",
          "height": 34
        },
        "outputId": "a90aae7f-7ea9-4832-b3a2-79c2c23ad673"
      },
      "source": [
        "y.shape # labels"
      ],
      "execution_count": 44,
      "outputs": [
        {
          "output_type": "execute_result",
          "data": {
            "text/plain": [
              "(178374, 121)"
            ]
          },
          "metadata": {
            "tags": []
          },
          "execution_count": 44
        }
      ]
    },
    {
      "cell_type": "code",
      "metadata": {
        "id": "M_KKytv4ocwC",
        "colab_type": "code",
        "colab": {
          "base_uri": "https://localhost:8080/",
          "height": 34
        },
        "outputId": "700edc3a-d7e2-4d4a-c3fc-4253f7c4b461"
      },
      "source": [
        "(maxlen, len(chars))"
      ],
      "execution_count": 45,
      "outputs": [
        {
          "output_type": "execute_result",
          "data": {
            "text/plain": [
              "(40, 121)"
            ]
          },
          "metadata": {
            "tags": []
          },
          "execution_count": 45
        }
      ]
    },
    {
      "cell_type": "code",
      "metadata": {
        "id": "vs8mDRJgA2qB",
        "colab_type": "code",
        "colab": {}
      },
      "source": [
        "# build the model: a single LSTM\n",
        "\n",
        "model = Sequential()\n",
        "model.add(LSTM(128, input_shape=(maxlen, len(chars))))\n",
        "model.add(Dense(len(chars), activation='softmax')) # softmax = multiclass classification problem\n",
        "model.compile(loss='categorical_crossentropy', optimizer='adam')"
      ],
      "execution_count": 50,
      "outputs": []
    },
    {
      "cell_type": "code",
      "metadata": {
        "id": "ep1A7S7CA2qC",
        "colab_type": "code",
        "colab": {}
      },
      "source": [
        "def sample(preds):\n",
        "    # helper function to sample an index from a probability array\n",
        "    preds = np.asarray(preds).astype('float64')\n",
        "    preds = np.log(preds) / 1\n",
        "    exp_preds = np.exp(preds)\n",
        "    preds = exp_preds / np.sum(exp_preds)\n",
        "    probas = np.random.multinomial(1, preds, 1)\n",
        "    return np.argmax(probas)"
      ],
      "execution_count": 47,
      "outputs": []
    },
    {
      "cell_type": "code",
      "metadata": {
        "id": "HuhUbehBA2qE",
        "colab_type": "code",
        "colab": {}
      },
      "source": [
        "def on_epoch_end(epoch, _):\n",
        "    # Function invoked at end of each epoch. Prints generated text.\n",
        "    \n",
        "    print()\n",
        "    print('----- Generating text after Epoch: %d' % epoch)\n",
        "    \n",
        "    start_index = random.randint(0, len(text) - maxlen - 1)\n",
        "    \n",
        "    generated = ''\n",
        "    \n",
        "    sentence = text[start_index: start_index + maxlen]\n",
        "    generated += sentence\n",
        "    \n",
        "    print('----- Generating with seed: \"' + sentence + '\"')\n",
        "    sys.stdout.write(generated)\n",
        "    \n",
        "    for i in range(400):\n",
        "        x_pred = np.zeros((1, maxlen, len(chars)))\n",
        "        for t, char in enumerate(sentence):\n",
        "            x_pred[0, t, char_int[char]] = 1\n",
        "            \n",
        "        preds = model.predict(x_pred, verbose=0)[0]\n",
        "        next_index = sample(preds)\n",
        "        next_char = int_char[next_index]\n",
        "        \n",
        "        sentence = sentence[1:] + next_char\n",
        "        \n",
        "        sys.stdout.write(next_char)\n",
        "        sys.stdout.flush()\n",
        "    print()\n",
        "\n",
        "\n",
        "print_callback = LambdaCallback(on_epoch_end=on_epoch_end)"
      ],
      "execution_count": 48,
      "outputs": []
    },
    {
      "cell_type": "code",
      "metadata": {
        "id": "gVf6TjXtA2qG",
        "colab_type": "code",
        "colab": {
          "base_uri": "https://localhost:8080/",
          "height": 1000
        },
        "outputId": "f475c938-106c-4ac6-fe34-e5416cadd61a"
      },
      "source": [
        "# fit the model\n",
        "\n",
        "model.fit(x, y,\n",
        "          batch_size=32,\n",
        "          epochs=10,\n",
        "          callbacks=[print_callback])"
      ],
      "execution_count": 49,
      "outputs": [
        {
          "output_type": "stream",
          "text": [
            "Epoch 1/10\n",
            "5573/5575 [============================>.] - ETA: 0s - loss: 2.5774\n",
            "----- Generating text after Epoch: 0\n",
            "----- Generating with seed: \"Saturday Night Live comedian Al Franken \"\n",
            "Saturday Night Live comedian Al Franken Bon alilamy o pofpl In pJonin, nh mrabinet anmt.\n",
            "\n",
            "A“a ahap y5e: Rokiat ugenos thensimathin Il: Sreabes yres cichenges besbo the mac. tome w whob toa mervithsuchathe reele hand coma s Spvoned I guses, chours a ariim arrial. Whetinsidisine.\n",
            "\n",
            "Dab jiwsting the in to kema, gom got crond gricicen. E/phen\n",
            "\n",
            "“The ainthine trawce lliking the Wathes, Anna]d the Mavpededic, and f olmy ar a pavel seat se taed \n",
            "5575/5575 [==============================] - 39s 7ms/step - loss: 2.5774\n",
            "Epoch 2/10\n",
            "5575/5575 [==============================] - ETA: 0s - loss: 2.2294\n",
            "----- Generating text after Epoch: 1\n",
            "----- Generating with seed: \"e were more of their parents’ historic l\"\n",
            "e were more of their parents’ historic leble (cluntins withmen in the ontresee houch (Mishiotr ax hir Patiphtrional f refustl fathing the renotrend to the mare, youl miphen bley exmash ander omicas, the aws the Ucinpottion: In theavy ovent Baint whe plect ontald mane.\n",
            "\n",
            "Ses hern the not expIling intentts wia Res. Pene nive veing/bentw, he fom moliovbfesity an On Bor-vergersing dower for Nast souredontang taoot gol Cary ovedroutes uplempa\n",
            "5575/5575 [==============================] - 39s 7ms/step - loss: 2.2294\n",
            "Epoch 3/10\n",
            "5573/5575 [============================>.] - ETA: 0s - loss: 2.1017\n",
            "----- Generating text after Epoch: 2\n",
            "----- Generating with seed: \" What the Democrats are doing to our pre\"\n",
            " What the Democrats are doing to our preqoay of Waschrens suir If Shome Kadinmwy Ssarmad — eas cobshingen imperanitate wat Defuchs was to Ta seadiny Bof Illdok’t and 1., “Hill Paidey 295 walt kole with.\n",
            "\n",
            "That I as resitagesh to yeid bo Pubectes. “3 hiv call dess the Sont.”\n",
            "\n",
            "collic fe wid worded and ooth withar uses at has ain Serlicedan Syrday redeatn in a troun in cusrdencims ou juj recistar sinfert.\n",
            "\n",
            "Moolage on comme selinges an Saati\n",
            "5575/5575 [==============================] - 38s 7ms/step - loss: 2.1016\n",
            "Epoch 4/10\n",
            "5568/5575 [============================>.] - ETA: 0s - loss: 2.0132\n",
            "----- Generating text after Epoch: 3\n",
            "----- Generating with seed: \"citizens had obtained a license plate nu\"\n",
            "citizens had obtained a license plate nut Treek reaintor or eneaters, The baid probosten.\n",
            "\n",
            "Brictics.”/SF, Brose Swrica Hisson haside, a ergunerssion “for a, ormses , atsous wit insaravert fresored but are tap neneron’ lexserns infouse in dory fecensuaing reane,.\n",
            "\n",
            "In luppreseitions and neagis, cigred teak comelage and Viectay sare.\n",
            "\n",
            "\n",
            "\n",
            "\n",
            "Terk, ancurats (itsontinaton Trukeds in ancenting Sluyared for and hit cinner pabust [NSPatart (Wethton\n",
            "5575/5575 [==============================] - 39s 7ms/step - loss: 2.0131\n",
            "Epoch 5/10\n",
            "5569/5575 [============================>.] - ETA: 0s - loss: 1.9445\n",
            "----- Generating text after Epoch: 4\n",
            "----- Generating with seed: \"ermination rights, we reserve the right \"\n",
            "ermination rights, we reserve the right of ­urlicets active wish pelpode thin becoud it iffelsfue any the ATrattors) And Hud yor the he’s pea he non dovennal the Wollangro, saburdon.\n",
            "\n",
            "We-secnive aneinds wherre and Uundichmonts, and resiing the nowoun linesurmenling sters of the nom to kraved plobitive rait any. The the 50 they working of the plas dectati uttroncing than suedit of the chefterrmoning ulded on more sham in the Hifrchishs g\n",
            "5575/5575 [==============================] - 40s 7ms/step - loss: 1.9446\n",
            "Epoch 6/10\n",
            "5573/5575 [============================>.] - ETA: 0s - loss: 1.8876\n",
            "----- Generating text after Epoch: 5\n",
            "----- Generating with seed: \"with Syrian government forces retaking t\"\n",
            "with Syrian government forces retaking their dsable a achivistin’s be from the cemicise their Vyrepe. “Wo houpparnative hivis in the Unrint outh a 42r. Atoro.”\n",
            "\n",
            "Ant ghan in The Ukried watthibia the our lews. Hatal your ancuperainge — not lao su’s frish with Pourts has deaght). “Trumppriont for posttion in Gollrensingow hellifed air the rope, prasod etreater megha Lol jurn’s the pusliple folmy of the Selich. Sone on out fie our on “incem\n",
            "5575/5575 [==============================] - 39s 7ms/step - loss: 1.8876\n",
            "Epoch 7/10\n",
            "5566/5575 [============================>.] - ETA: 0s - loss: 1.8402\n",
            "----- Generating text after Epoch: 6\n",
            "----- Generating with seed: \"on Guidelines, or the failure to fulfill\"\n",
            "on Guidelines, or the failure to fulfill” the pllyorgation or’t tol couth vistorcevermatcemes to unquide from’n evinfle party wible, somocoling pat in the restamol.” be the paid. Chan Trump’s succ. Russled the provect. Lise’s will. The reblegned twoightabog to the cancate say. PoltiAm Jendands Vatus a supple nawin appreated that his gromp wouldn, and U.S. and harlly videots to do the beooning in the knater harven bome and every in at th\n",
            "5575/5575 [==============================] - 39s 7ms/step - loss: 1.8402\n",
            "Epoch 8/10\n",
            "5572/5575 [============================>.] - ETA: 0s - loss: 1.7960\n",
            "----- Generating text after Epoch: 7\n",
            "----- Generating with seed: \"ers a duty to protect the president from\"\n",
            "ers a duty to protect the president from overientig,” with and gine suck in H.C8 of the was Man Digians\n",
            "\n",
            "In wath could bote reciding etted.”\n",
            "\n",
            "\n",
            "\n",
            "The and stond 2019\n",
            "\n",
            "Kurry writh contently josage a stant nom voom-the hamplessipy insusenterliwated mond to making by prtcission of son or a sime to suck the chuld endurter nom name not, , hald ham.\n",
            "\n",
            "AD\n",
            "\n",
            "Now wind a mant up (5 years goo stat ollershespordent ligatind into Crump. The’ter nearched \n",
            "5575/5575 [==============================] - 39s 7ms/step - loss: 1.7960\n",
            "Epoch 9/10\n",
            "5567/5575 [============================>.] - ETA: 0s - loss: 1.7573\n",
            "----- Generating text after Epoch: 8\n",
            "----- Generating with seed: \"tising shown to you here or elsewhere, a\"\n",
            "tising shown to you here or elsewhere, antitued that of un the new a grabs to was on SaurH Burlepted and Delavay, MeS at the right not Fersishishing sayer.\n",
            "\n",
            "AD\n",
            "\n",
            "Woal it that, dakned he ull of first the immest for a, than after are reedured bet the veeth proper intocco might? Ta-matured to pulided for Stught brourn in.\n",
            "\n",
            "AD C. Coomblerters Billiat.”\n",
            "\n",
            "AD\n",
            "\n",
            "Aficians, on fire time and begieal inscouns for Sensy from more. The link selitastry,\n",
            "5575/5575 [==============================] - 39s 7ms/step - loss: 1.7572\n",
            "Epoch 10/10\n",
            "5565/5575 [============================>.] - ETA: 0s - loss: 1.7330\n",
            "----- Generating text after Epoch: 9\n",
            "----- Generating with seed: \"bably going to be too little, too late. \"\n",
            "bably going to be too little, too late. “S. Geom Jan.\n",
            "\n",
            "The Mecriffern, with Zelfor commidents and gress a formed a drow.\n",
            "\n",
            "— Jaiugge Wedine Saustur parmition obliags that his privonsed up in the mon. This lease ” ona till coneed.\n",
            "\n",
            "In Fornist’s Syent Syrian thougred it with exectify depostical of times rocrective as warred Streec, conside to retaitions.\n",
            "\n",
            "“Oter Shitt’s mysican Ixperiana sweeted by Parro N sourcy in thowigrive. “We said thi\n",
            "5575/5575 [==============================] - 39s 7ms/step - loss: 1.7334\n"
          ],
          "name": "stdout"
        },
        {
          "output_type": "execute_result",
          "data": {
            "text/plain": [
              "<tensorflow.python.keras.callbacks.History at 0x7fbaf947ca20>"
            ]
          },
          "metadata": {
            "tags": []
          },
          "execution_count": 49
        }
      ]
    },
    {
      "cell_type": "markdown",
      "metadata": {
        "id": "W9WnH90xA2qI",
        "colab_type": "text"
      },
      "source": [
        "## Challenge\n",
        "\n",
        "You will be expected to use a Keras LSTM to generate text on today's assignment. "
      ]
    },
    {
      "cell_type": "markdown",
      "metadata": {
        "id": "E6R4TGKAA2qJ",
        "colab_type": "text"
      },
      "source": [
        "# Review\n",
        "\n",
        "- <a href=\"#p1\">Part 1: </a>Describe Neural Networks used for modeling sequences\n",
        "    * Sequence Problems:\n",
        "        - Time Series (like Stock Prices, Weather, etc.)\n",
        "        - Text Classification\n",
        "        - Text Generation\n",
        "        - And many more! :D\n",
        "    * LSTMs are generally preferred over RNNs for most problems\n",
        "    * LSTMs are typically a single hidden layer of LSTM type; although, other architectures are possible.\n",
        "    * Keras has LSTMs/RNN layer types implemented nicely\n",
        "- <a href=\"#p2\">Part 2: </a>Apply a LSTM to a text generation problem using Keras\n",
        "    * Shape of input data is very important\n",
        "    * Can take a while to train\n",
        "    * You can use it to write movie scripts. :P "
      ]
    }
  ]
}